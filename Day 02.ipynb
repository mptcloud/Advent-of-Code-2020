{
 "cells": [
  {
   "cell_type": "code",
   "execution_count": 15,
   "metadata": {},
   "outputs": [],
   "source": [
    "import numpy as np\n",
    "\n",
    "from pathlib import Path\n",
    "\n",
    "from collections import Counter"
   ]
  },
  {
   "cell_type": "code",
   "execution_count": 2,
   "metadata": {},
   "outputs": [],
   "source": [
    "data_path = Path.home() / 'workstation' / 'dev' / 'Advent-of-Code-2020' / 'data' / 'day2_input.txt'"
   ]
  },
  {
   "cell_type": "code",
   "execution_count": 3,
   "metadata": {},
   "outputs": [
    {
     "data": {
      "text/plain": [
       "True"
      ]
     },
     "execution_count": 3,
     "metadata": {},
     "output_type": "execute_result"
    }
   ],
   "source": [
    "data_path.exists()"
   ]
  },
  {
   "cell_type": "code",
   "execution_count": 39,
   "metadata": {},
   "outputs": [],
   "source": [
    "def get_search_char(input_string):\n",
    "    return input_string.strip(':')\n",
    "\n",
    "def get_bounds(input_string):\n",
    "    return map(int, input_string.split('-'))\n",
    "\n",
    "def is_valid(input_counter, search_char, lower_bound, upper_bound):\n",
    "    return input_counter[search_char] >= lower_bound and input_counter[search_char] <= upper_bound\n",
    "\n",
    "with open(data_path, 'r') as reader:\n",
    "    num_valid_lines = 0\n",
    "    for cnt, line in enumerate(reader):\n",
    "        num_range, char_colon, string = line.split()\n",
    "        \n",
    "        char = get_search_char(char_colon)\n",
    "        lower_bound, upper_bound = get_bounds(num_range)\n",
    "        dict_counter = Counter(string)\n",
    "        \n",
    "        truth_value = is_valid(dict_counter, char, lower_bound, upper_bound)\n",
    "        \n",
    "        num_valid_lines += truth_value"
   ]
  },
  {
   "cell_type": "code",
   "execution_count": 40,
   "metadata": {},
   "outputs": [
    {
     "data": {
      "text/plain": [
       "493"
      ]
     },
     "execution_count": 40,
     "metadata": {},
     "output_type": "execute_result"
    }
   ],
   "source": [
    "num_valid_lines"
   ]
  },
  {
   "cell_type": "code",
   "execution_count": 41,
   "metadata": {},
   "outputs": [],
   "source": [
    "def get_search_char(input_string):\n",
    "    return input_string.strip(':')\n",
    "\n",
    "def get_locations(input_string):\n",
    "    return map(int, input_string.split('-'))\n",
    "\n",
    "# Boolean XOR\n",
    "def is_valid(input_string, search_char, lower_index, upper_index):\n",
    "    condition_1 = input_string[lower_index] == search_char \n",
    "    condition_2 = input_string[upper_index] == search_char\n",
    "    return condition_1 ^ condition_2\n",
    "\n",
    "with open(data_path, 'r') as reader:\n",
    "    num_valid_lines = 0\n",
    "    for cnt, line in enumerate(reader):\n",
    "        num_range, char_colon, string = line.split()\n",
    "        \n",
    "        char = get_search_char(char_colon)\n",
    "        lower_location, upper_location = get_locations(num_range)\n",
    "        lower_index, upper_index = lower_location-1, upper_location-1\n",
    "        \n",
    "        truth_value = is_valid(string, char, lower_index, upper_index)\n",
    "        \n",
    "        num_valid_lines += truth_value"
   ]
  },
  {
   "cell_type": "code",
   "execution_count": 42,
   "metadata": {},
   "outputs": [
    {
     "data": {
      "text/plain": [
       "593"
      ]
     },
     "execution_count": 42,
     "metadata": {},
     "output_type": "execute_result"
    }
   ],
   "source": [
    "num_valid_lines"
   ]
  },
  {
   "cell_type": "code",
   "execution_count": null,
   "metadata": {},
   "outputs": [],
   "source": []
  }
 ],
 "metadata": {
  "kernelspec": {
   "display_name": "Python 3",
   "language": "python",
   "name": "python3"
  },
  "language_info": {
   "codemirror_mode": {
    "name": "ipython",
    "version": 3
   },
   "file_extension": ".py",
   "mimetype": "text/x-python",
   "name": "python",
   "nbconvert_exporter": "python",
   "pygments_lexer": "ipython3",
   "version": "3.7.4"
  }
 },
 "nbformat": 4,
 "nbformat_minor": 4
}
