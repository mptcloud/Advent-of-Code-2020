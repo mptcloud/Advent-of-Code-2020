{
 "cells": [
  {
   "cell_type": "code",
   "execution_count": 71,
   "metadata": {},
   "outputs": [],
   "source": [
    "from pathlib import Path\n",
    "\n",
    "import re"
   ]
  },
  {
   "cell_type": "code",
   "execution_count": 2,
   "metadata": {},
   "outputs": [],
   "source": [
    "data_path = Path.home() / 'workstation' / 'dev' / 'Advent-of-Code-2020' / 'data' / 'day4_input.txt'"
   ]
  },
  {
   "cell_type": "code",
   "execution_count": 3,
   "metadata": {},
   "outputs": [
    {
     "data": {
      "text/plain": [
       "True"
      ]
     },
     "execution_count": 3,
     "metadata": {},
     "output_type": "execute_result"
    }
   ],
   "source": [
    "data_path.exists()"
   ]
  },
  {
   "cell_type": "code",
   "execution_count": 13,
   "metadata": {},
   "outputs": [],
   "source": [
    "with open(data_path, 'r') as reader:\n",
    "    parsed_batch_input = reader.read()"
   ]
  },
  {
   "cell_type": "code",
   "execution_count": 14,
   "metadata": {},
   "outputs": [],
   "source": [
    "separated_entries = parsed_batch_input.split('\\n\\n')"
   ]
  },
  {
   "cell_type": "code",
   "execution_count": 17,
   "metadata": {},
   "outputs": [],
   "source": [
    "cleaned_input = [entry.replace('\\n', ' ').strip() for entry in separated_entries]"
   ]
  },
  {
   "cell_type": "code",
   "execution_count": 47,
   "metadata": {},
   "outputs": [
    {
     "data": {
      "text/plain": [
       "['iyr:2013 hcl:#ceb3a1 hgt:151cm eyr:2030 byr:1943 ecl:grn',\n",
       " 'eyr:1988 iyr:2015 ecl:gry hgt:153in pid:173cm hcl:0c6261 byr:1966',\n",
       " 'hcl:#733820 hgt:166cm eyr:2025 pid:79215921 byr:1952 iyr:2014 ecl:blu']"
      ]
     },
     "execution_count": 47,
     "metadata": {},
     "output_type": "execute_result"
    }
   ],
   "source": [
    "cleaned_input[:3]"
   ]
  },
  {
   "cell_type": "code",
   "execution_count": 39,
   "metadata": {},
   "outputs": [],
   "source": [
    "entry_list = []\n",
    "\n",
    "for entry in cleaned_input:\n",
    "    entry_list.append(dict(kv_pair.split(':') for kv_pair in entry.split(' ')))"
   ]
  },
  {
   "cell_type": "code",
   "execution_count": 48,
   "metadata": {},
   "outputs": [
    {
     "data": {
      "text/plain": [
       "[{'iyr': '2013',\n",
       "  'hcl': '#ceb3a1',\n",
       "  'hgt': '151cm',\n",
       "  'eyr': '2030',\n",
       "  'byr': '1943',\n",
       "  'ecl': 'grn'},\n",
       " {'eyr': '1988',\n",
       "  'iyr': '2015',\n",
       "  'ecl': 'gry',\n",
       "  'hgt': '153in',\n",
       "  'pid': '173cm',\n",
       "  'hcl': '0c6261',\n",
       "  'byr': '1966'},\n",
       " {'hcl': '#733820',\n",
       "  'hgt': '166cm',\n",
       "  'eyr': '2025',\n",
       "  'pid': '79215921',\n",
       "  'byr': '1952',\n",
       "  'iyr': '2014',\n",
       "  'ecl': 'blu'}]"
      ]
     },
     "execution_count": 48,
     "metadata": {},
     "output_type": "execute_result"
    }
   ],
   "source": [
    "entry_list[:3]"
   ]
  },
  {
   "cell_type": "code",
   "execution_count": 50,
   "metadata": {},
   "outputs": [],
   "source": [
    "assert len(entry_list) == len(cleaned_input)"
   ]
  },
  {
   "cell_type": "code",
   "execution_count": 54,
   "metadata": {},
   "outputs": [],
   "source": [
    "num_valid_entries = 0\n",
    "necessary_keys = ['byr', 'iyr', 'eyr', 'hgt', 'hcl', 'ecl', 'pid']\n",
    "\n",
    "for entry in entry_list:\n",
    "    num_valid_entries += all(key in entry.keys() for key in necessary_keys)"
   ]
  },
  {
   "cell_type": "code",
   "execution_count": 55,
   "metadata": {},
   "outputs": [
    {
     "data": {
      "text/plain": [
       "208"
      ]
     },
     "execution_count": 55,
     "metadata": {},
     "output_type": "execute_result"
    }
   ],
   "source": [
    "num_valid_entries"
   ]
  },
  {
   "cell_type": "code",
   "execution_count": 102,
   "metadata": {},
   "outputs": [],
   "source": [
    "num_valid_entries = 0\n",
    "necessary_keys = ['byr', 'iyr', 'eyr', 'hgt', 'hcl', 'ecl', 'pid']\n",
    "\n",
    "def is_valid_entry(entry):\n",
    "    def are_keys_present():\n",
    "        return all(key in entry.keys() for key in necessary_keys)\n",
    "    \n",
    "    def is_valid_birth_year():\n",
    "        try:\n",
    "            year = int(entry['byr'])\n",
    "        except ValueError as e:\n",
    "            return False\n",
    "        \n",
    "        return 1920 <= year <= 2002\n",
    "    \n",
    "    def is_valid_issue_year():\n",
    "        try:\n",
    "            year = int(entry['iyr'])\n",
    "        except ValueError as e:\n",
    "            return False\n",
    "\n",
    "        return 2010 <= year <= 2020\n",
    "    \n",
    "    def is_valid_expiration_year():\n",
    "        try:\n",
    "            year = int(entry['eyr'])\n",
    "        except ValueError as e:\n",
    "            return False\n",
    "\n",
    "        return 2020 <= year <= 2030\n",
    "    \n",
    "    def is_valid_height():\n",
    "        if entry['hgt'].endswith('cm'):\n",
    "            height = int(entry['hgt'][:-2])\n",
    "            return 150 <= height <= 193           \n",
    "        elif entry['hgt'].endswith('in'):\n",
    "            height = int(entry['hgt'][:-2])\n",
    "            return 59 <= height <= 76\n",
    "        else:\n",
    "            return False\n",
    "        \n",
    "    def is_valid_hair_colour():\n",
    "        pattern = re.compile('^#[a-f0-9]{6}$')\n",
    "        if pattern.match(entry['hcl']):\n",
    "            return True\n",
    "        else:\n",
    "            return False\n",
    "        \n",
    "    def is_valid_eye_colour():\n",
    "        valid_eye_colours = ['amb', 'blu', 'brn', 'gry', 'grn', 'hzl', 'oth']\n",
    "        return entry['ecl'] in valid_eye_colours\n",
    "    \n",
    "    def is_valid_passport_id():\n",
    "        if len(entry['pid']) == 9:\n",
    "            try:\n",
    "                pid = int(entry['pid'])\n",
    "            except ValueError as e:\n",
    "                return False\n",
    "        else:\n",
    "            return False\n",
    "        \n",
    "        return True\n",
    "    \n",
    "    if are_keys_present():\n",
    "        validity_array = [\n",
    "            is_valid_birth_year(),\n",
    "            is_valid_issue_year(),\n",
    "            is_valid_expiration_year(),\n",
    "            is_valid_height(),\n",
    "            is_valid_hair_colour(),\n",
    "            is_valid_eye_colour(),\n",
    "            is_valid_passport_id()\n",
    "        ]\n",
    "        return all(validity_array)\n",
    "    else:\n",
    "        return False\n",
    "    \n",
    "\n",
    "for entry in entry_list:\n",
    "    num_valid_entries += is_valid_entry(entry)"
   ]
  },
  {
   "cell_type": "code",
   "execution_count": 103,
   "metadata": {},
   "outputs": [
    {
     "data": {
      "text/plain": [
       "167"
      ]
     },
     "execution_count": 103,
     "metadata": {},
     "output_type": "execute_result"
    }
   ],
   "source": [
    "num_valid_entries"
   ]
  },
  {
   "cell_type": "code",
   "execution_count": null,
   "metadata": {},
   "outputs": [],
   "source": []
  }
 ],
 "metadata": {
  "kernelspec": {
   "display_name": "Python 3",
   "language": "python",
   "name": "python3"
  },
  "language_info": {
   "codemirror_mode": {
    "name": "ipython",
    "version": 3
   },
   "file_extension": ".py",
   "mimetype": "text/x-python",
   "name": "python",
   "nbconvert_exporter": "python",
   "pygments_lexer": "ipython3",
   "version": "3.7.4"
  }
 },
 "nbformat": 4,
 "nbformat_minor": 4
}
