{
 "cells": [
  {
   "cell_type": "code",
   "execution_count": 1,
   "metadata": {},
   "outputs": [],
   "source": [
    "from pathlib import Path\n",
    "\n",
    "import re\n",
    "\n",
    "from functools import reduce\n",
    "\n",
    "from itertools import combinations_with_replacement, product, zip_longest\n",
    "\n",
    "from collections import Counter"
   ]
  },
  {
   "cell_type": "code",
   "execution_count": 2,
   "metadata": {},
   "outputs": [],
   "source": [
    "data_path = Path.home() / 'workstation' / 'dev' / 'Advent-of-Code-2020' / 'data' / 'day14_input.txt'"
   ]
  },
  {
   "cell_type": "code",
   "execution_count": 3,
   "metadata": {},
   "outputs": [
    {
     "data": {
      "text/plain": [
       "True"
      ]
     },
     "execution_count": 3,
     "metadata": {},
     "output_type": "execute_result"
    }
   ],
   "source": [
    "data_path.exists()"
   ]
  },
  {
   "cell_type": "code",
   "execution_count": 4,
   "metadata": {},
   "outputs": [],
   "source": [
    "with open(data_path, 'r') as reader:\n",
    "    init_program = reader.read().strip()"
   ]
  },
  {
   "cell_type": "code",
   "execution_count": 5,
   "metadata": {},
   "outputs": [],
   "source": [
    "init_list = init_program.split('\\n')"
   ]
  },
  {
   "cell_type": "markdown",
   "metadata": {},
   "source": [
    "#### Part 1"
   ]
  },
  {
   "cell_type": "code",
   "execution_count": 6,
   "metadata": {},
   "outputs": [],
   "source": [
    "class InitializationProgram:\n",
    "    def __init__(self):\n",
    "        self.regex_pattern = re.compile(r'([0-9]+)')\n",
    "        self.mem = {}\n",
    "        self.bitmask_dict = {}\n",
    "        \n",
    "        \n",
    "    @staticmethod\n",
    "    def set_bit(v, index, x):\n",
    "        \"\"\"\n",
    "        # https://stackoverflow.com/questions/12173774/how-to-modify-bits-in-an-integer\n",
    "        \"\"\"\n",
    "        mask = 1 << index\n",
    "        v &= ~mask \n",
    "        if x:\n",
    "            v |= mask\n",
    "        return v\n",
    "    \n",
    "    \n",
    "    def process_instructions(self, init_list):\n",
    "        for step in init_list:\n",
    "            if step.startswith('mask'):\n",
    "                self.bitmask_dict = {}\n",
    "                self.process_bitmask(step)\n",
    "            elif step.startswith('mem'):\n",
    "                self.process_memory_value(step)\n",
    "    \n",
    "\n",
    "    def get_sum_memory_values(self):\n",
    "        return sum(self.mem.values())\n",
    "\n",
    "        \n",
    "    def process_bitmask(self, step):\n",
    "        bitmask_string = step.split('mask = ')[1]\n",
    "        l = len(bitmask_string) \n",
    "        for string_index, bitmask in enumerate(bitmask_string):\n",
    "            dict_key = l-1-string_index\n",
    "            if bitmask == '0' or bitmask == '1':\n",
    "                self.bitmask_dict[dict_key] = int(bitmask)\n",
    "\n",
    "                \n",
    "    def process_memory_value(self, step):\n",
    "        mem_index, value = map(int, re.findall(self.regex_pattern, step))\n",
    "        for key in self.bitmask_dict.keys():\n",
    "            value = InitializationProgram.set_bit(value, key, self.bitmask_dict[key])\n",
    "        self.mem[mem_index] = value"
   ]
  },
  {
   "cell_type": "code",
   "execution_count": 7,
   "metadata": {},
   "outputs": [],
   "source": [
    "program = InitializationProgram()"
   ]
  },
  {
   "cell_type": "code",
   "execution_count": 8,
   "metadata": {},
   "outputs": [],
   "source": [
    "program.process_instructions(init_list)"
   ]
  },
  {
   "cell_type": "code",
   "execution_count": 9,
   "metadata": {},
   "outputs": [
    {
     "data": {
      "text/plain": [
       "15172047086292"
      ]
     },
     "execution_count": 9,
     "metadata": {},
     "output_type": "execute_result"
    }
   ],
   "source": [
    "program.get_sum_memory_values()"
   ]
  },
  {
   "cell_type": "markdown",
   "metadata": {},
   "source": [
    "#### Part 2"
   ]
  },
  {
   "cell_type": "code",
   "execution_count": 10,
   "metadata": {},
   "outputs": [],
   "source": [
    "class InitializationProgram2(InitializationProgram):\n",
    "    def __init__(self):\n",
    "        super().__init__()\n",
    "        self.bitmask_string = ''\n",
    "\n",
    "    \n",
    "    def process_instructions(self, init_list):\n",
    "        for step in init_list:\n",
    "            if step.startswith('mask'):\n",
    "                self.bitmask_dict = {}\n",
    "                self.process_bitmask(step)\n",
    "            elif step.startswith('mem'):\n",
    "                self.process_memory_value(step)\n",
    "\n",
    "        \n",
    "    def process_bitmask(self, step):\n",
    "        self.bitmask_string = step.split('mask = ')[1]\n",
    "\n",
    "                \n",
    "    @staticmethod\n",
    "    def replace_char_w_all_combinations(char, string, replacement_list):\n",
    "        split_string_list = string.split(char)\n",
    "        res = []\n",
    "    \n",
    "        char_counter = Counter(string)\n",
    "        num_replacements = char_counter[char]\n",
    "    \n",
    "        possible_combinations = product(replacement_list, repeat=num_replacements)\n",
    "    \n",
    "        for replacement_tuple in possible_combinations:\n",
    "            replacement_string = ''.join(replacement_tuple)\n",
    "            temp = ''.join(i + j for i, j in zip_longest(split_string_list, replacement_tuple, fillvalue=\"\"))\n",
    "            res.append(temp)\n",
    "    \n",
    "        return res\n",
    "\n",
    "    \n",
    "    def process_memory_value(self, step):\n",
    "        mem_index, value = map(int, re.findall(self.regex_pattern, step))\n",
    "        mem_index_binary_string = bin(mem_index)[2:]\n",
    "        l = len(mem_index_binary_string)\n",
    "        mem_index_36_bits = mem_index_binary_string.zfill(36)\n",
    "        new_binary_string = ''\n",
    "        \n",
    "        for mask_char, mem_char in zip(self.bitmask_string, mem_index_36_bits):\n",
    "            if mask_char == '0':\n",
    "                new_binary_string += mem_char\n",
    "            elif mask_char == '1':\n",
    "                new_binary_string += '1'\n",
    "            elif mask_char == 'X':\n",
    "                new_binary_string += 'X'\n",
    "                \n",
    "        mem_index_list = InitializationProgram2.replace_char_w_all_combinations('X', new_binary_string, ['0', '1'])\n",
    "        \n",
    "        for mem_index in mem_index_list:\n",
    "            int_mem_index = int(mem_index, 2)\n",
    "            self.mem[int_mem_index] = value"
   ]
  },
  {
   "cell_type": "code",
   "execution_count": 11,
   "metadata": {},
   "outputs": [],
   "source": [
    "program_2 = InitializationProgram2()"
   ]
  },
  {
   "cell_type": "code",
   "execution_count": 12,
   "metadata": {},
   "outputs": [],
   "source": [
    "program_2.process_instructions(init_list)"
   ]
  },
  {
   "cell_type": "code",
   "execution_count": 13,
   "metadata": {},
   "outputs": [
    {
     "data": {
      "text/plain": [
       "4197941339968"
      ]
     },
     "execution_count": 13,
     "metadata": {},
     "output_type": "execute_result"
    }
   ],
   "source": [
    "program_2.get_sum_memory_values()"
   ]
  }
 ],
 "metadata": {
  "kernelspec": {
   "display_name": "Python 3",
   "language": "python",
   "name": "python3"
  },
  "language_info": {
   "codemirror_mode": {
    "name": "ipython",
    "version": 3
   },
   "file_extension": ".py",
   "mimetype": "text/x-python",
   "name": "python",
   "nbconvert_exporter": "python",
   "pygments_lexer": "ipython3",
   "version": "3.7.4"
  }
 },
 "nbformat": 4,
 "nbformat_minor": 4
}
