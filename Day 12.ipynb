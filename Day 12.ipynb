{
 "cells": [
  {
   "cell_type": "code",
   "execution_count": 10,
   "metadata": {},
   "outputs": [],
   "source": [
    "from pathlib import Path\n",
    "\n",
    "import re\n",
    "\n",
    "import math"
   ]
  },
  {
   "cell_type": "code",
   "execution_count": 11,
   "metadata": {},
   "outputs": [],
   "source": [
    "data_path = Path.home() / 'workstation' / 'dev' / 'Advent-of-Code-2020' / 'data' / 'day12_input.txt'"
   ]
  },
  {
   "cell_type": "code",
   "execution_count": 12,
   "metadata": {},
   "outputs": [
    {
     "data": {
      "text/plain": [
       "True"
      ]
     },
     "execution_count": 12,
     "metadata": {},
     "output_type": "execute_result"
    }
   ],
   "source": [
    "data_path.exists()"
   ]
  },
  {
   "cell_type": "code",
   "execution_count": 13,
   "metadata": {},
   "outputs": [],
   "source": [
    "with open(data_path, 'r') as reader:\n",
    "    instruction_input = reader.read().strip()"
   ]
  },
  {
   "cell_type": "code",
   "execution_count": 14,
   "metadata": {},
   "outputs": [],
   "source": [
    "list_of_instructions = instruction_input.split('\\n')"
   ]
  },
  {
   "cell_type": "code",
   "execution_count": 15,
   "metadata": {},
   "outputs": [],
   "source": [
    "def parse(line):\n",
    "    regex_pattern = re.compile(r'([A-Z])([0-9]+)')\n",
    "    parsed_instructions = []\n",
    "    for instruction in list_of_instructions:\n",
    "        action, int_input = re.match(regex_pattern, instruction).groups()\n",
    "        parsed_instructions.append((action, int(int_input)))\n",
    "    return parsed_instructions"
   ]
  },
  {
   "cell_type": "code",
   "execution_count": 16,
   "metadata": {},
   "outputs": [],
   "source": [
    "def manhattan_distance(p, q=(0, 0)): \n",
    "    \"Manhattan distance between two points\"\n",
    "    return abs(p[0]-q[0]) + abs(p[1]-q[1])"
   ]
  },
  {
   "cell_type": "code",
   "execution_count": 17,
   "metadata": {},
   "outputs": [],
   "source": [
    "actions = parse(list_of_instructions)"
   ]
  },
  {
   "cell_type": "markdown",
   "metadata": {},
   "source": [
    "#### Part 1"
   ]
  },
  {
   "cell_type": "code",
   "execution_count": 18,
   "metadata": {},
   "outputs": [],
   "source": [
    "def execute_action(action, int_input, coords, angle_dir):\n",
    "    (x, y) = coords\n",
    "    action_lookup = {\n",
    "        'N': (x, y+int_input, angle_dir),\n",
    "        'S': (x, y-int_input, angle_dir),\n",
    "        'E': (x+int_input, y, angle_dir),\n",
    "        'W': (x-int_input, y, angle_dir),\n",
    "        'L': (x, y, angle_dir+int_input),\n",
    "        'R': (x, y, angle_dir-int_input),\n",
    "        'F': (\n",
    "            x + int_input*math.cos(math.radians(angle_dir)), \n",
    "            y + int_input*math.sin(math.radians(angle_dir)),\n",
    "            angle_dir\n",
    "        )\n",
    "    }\n",
    "    new_x, new_y, new_angle_dir = action_lookup[action]\n",
    "    return new_x, new_y, new_angle_dir"
   ]
  },
  {
   "cell_type": "code",
   "execution_count": 19,
   "metadata": {},
   "outputs": [],
   "source": [
    "def interpret(actions):\n",
    "    x = 0\n",
    "    y = 0\n",
    "    angle_dir = 0\n",
    "    for action in actions:\n",
    "        coords = (x, y)\n",
    "        direction_instr, int_input = action[0], action[1]\n",
    "        x, y, angle_dir = execute_action(direction_instr, int_input, coords, angle_dir)\n",
    "    return manhattan_distance((x, y))"
   ]
  },
  {
   "cell_type": "code",
   "execution_count": 20,
   "metadata": {},
   "outputs": [
    {
     "name": "stdout",
     "output_type": "stream",
     "text": [
      "362.00\n"
     ]
    }
   ],
   "source": [
    "result = interpret(actions)\n",
    "print(f'{result:.2f}')"
   ]
  },
  {
   "cell_type": "markdown",
   "metadata": {},
   "source": [
    "#### Part 2"
   ]
  },
  {
   "cell_type": "code",
   "execution_count": 21,
   "metadata": {},
   "outputs": [],
   "source": [
    "def execute_action(action, int_input, ship_coords, waypoint_coords):\n",
    "    (x, y) = ship_coords\n",
    "    (x1, y1) = waypoint_coords\n",
    "    action_lookup = {\n",
    "        'N': (x, y, x1, y1+int_input),\n",
    "        'S': (x, y, x1, y1-int_input),\n",
    "        'E': (x, y, x1+int_input, y1),\n",
    "        'W': (x, y, x1-int_input, y1),\n",
    "        'L': (\n",
    "            x, \n",
    "            y, \n",
    "            x1*math.cos(math.radians(int_input)) - y1*math.sin(math.radians(int_input)), \n",
    "            y1*math.cos(math.radians(int_input)) + x1*math.sin(math.radians(int_input))\n",
    "        ),\n",
    "        'R': (\n",
    "            x, \n",
    "            y,\n",
    "            x1*math.cos(math.radians(int_input)) + y1*math.sin(math.radians(int_input)), \n",
    "            y1*math.cos(math.radians(int_input)) - x1*math.sin(math.radians(int_input))\n",
    "        ),\n",
    "        'F': (\n",
    "            x + int_input*x1, \n",
    "            y + int_input*y1,\n",
    "            x1,\n",
    "            y1\n",
    "        )\n",
    "    }\n",
    "    new_x, new_y, new_x1, new_y1 = action_lookup[action]\n",
    "    return new_x, new_y, new_x1, new_y1"
   ]
  },
  {
   "cell_type": "code",
   "execution_count": 22,
   "metadata": {},
   "outputs": [],
   "source": [
    "def interpret(actions):\n",
    "    x = 0\n",
    "    y = 0\n",
    "    waypoint_x = 10\n",
    "    waypoint_y = 1\n",
    "    for action in actions:\n",
    "        ship_coords = (x, y)\n",
    "        rel_waypoint_coords = (waypoint_x, waypoint_y)\n",
    "        direction_instr, int_input = action[0], action[1]\n",
    "        x, y, waypoint_x, waypoint_y = execute_action(direction_instr, int_input, ship_coords, rel_waypoint_coords)\n",
    "    return manhattan_distance((x, y))"
   ]
  },
  {
   "cell_type": "code",
   "execution_count": 23,
   "metadata": {},
   "outputs": [
    {
     "name": "stdout",
     "output_type": "stream",
     "text": [
      "29895.00\n"
     ]
    }
   ],
   "source": [
    "result = interpret(actions)\n",
    "print(f'{result:.2f}')"
   ]
  }
 ],
 "metadata": {
  "kernelspec": {
   "display_name": "Python 3",
   "language": "python",
   "name": "python3"
  },
  "language_info": {
   "codemirror_mode": {
    "name": "ipython",
    "version": 3
   },
   "file_extension": ".py",
   "mimetype": "text/x-python",
   "name": "python",
   "nbconvert_exporter": "python",
   "pygments_lexer": "ipython3",
   "version": "3.7.4"
  }
 },
 "nbformat": 4,
 "nbformat_minor": 4
}
