{
 "cells": [
  {
   "cell_type": "code",
   "execution_count": 62,
   "metadata": {},
   "outputs": [],
   "source": [
    "from pathlib import Path\n",
    "\n",
    "import re\n",
    "\n",
    "from collections import defaultdict, deque\n",
    "\n",
    "import copy"
   ]
  },
  {
   "cell_type": "code",
   "execution_count": 63,
   "metadata": {},
   "outputs": [],
   "source": [
    "data_path = Path.home() / 'workstation' / 'dev' / 'Advent-of-Code-2020' / 'data' / 'day8_input.txt'"
   ]
  },
  {
   "cell_type": "code",
   "execution_count": 64,
   "metadata": {},
   "outputs": [
    {
     "data": {
      "text/plain": [
       "True"
      ]
     },
     "execution_count": 64,
     "metadata": {},
     "output_type": "execute_result"
    }
   ],
   "source": [
    "data_path.exists()"
   ]
  },
  {
   "cell_type": "code",
   "execution_count": 65,
   "metadata": {},
   "outputs": [],
   "source": [
    "with open(data_path, 'r') as reader:\n",
    "    text_input = reader.read().strip()"
   ]
  },
  {
   "cell_type": "code",
   "execution_count": 66,
   "metadata": {},
   "outputs": [],
   "source": [
    "list_instructions = text_input.split('\\n')"
   ]
  },
  {
   "cell_type": "markdown",
   "metadata": {},
   "source": [
    "#### Part 1"
   ]
  },
  {
   "cell_type": "code",
   "execution_count": 70,
   "metadata": {},
   "outputs": [],
   "source": [
    "def parse(line):\n",
    "    return [(x if x.isalpha() else int(x)) for x in line.split()]\n",
    "\n",
    "def execute_operation(operation, offset, line_num, accumulator):\n",
    "    op_lookup = {\n",
    "        'nop': (line_num+1, accumulator),\n",
    "        'jmp': (line_num+offset, accumulator),\n",
    "        'acc': (line_num+1, accumulator+offset)\n",
    "    }\n",
    "    new_line_num, new_accumulator = op_lookup[operation]\n",
    "    return new_line_num, new_accumulator\n",
    "\n",
    "def interpret(code):\n",
    "    line_number = 0\n",
    "    break_flag = 0\n",
    "    acc = 0\n",
    "    executed_lines = set()\n",
    "    while 0 <= line_number < len(code):\n",
    "        if line_number in executed_lines:\n",
    "            return acc\n",
    "        executed_lines.add(line_number)\n",
    "        instruction = code[line_number]\n",
    "        op, offset = instruction[0], instruction[1]\n",
    "        line_number, acc = execute_operation(op, offset, line_number, acc)\n",
    "    if break_flag == 0:\n",
    "        print('End of program!', f'Accumulation value: {acc}')"
   ]
  },
  {
   "cell_type": "code",
   "execution_count": 71,
   "metadata": {},
   "outputs": [],
   "source": [
    "code = [parse(line) for line in list_instructions]"
   ]
  },
  {
   "cell_type": "code",
   "execution_count": 72,
   "metadata": {},
   "outputs": [
    {
     "data": {
      "text/plain": [
       "1832"
      ]
     },
     "execution_count": 72,
     "metadata": {},
     "output_type": "execute_result"
    }
   ],
   "source": [
    "acc_value = interpret(code)\n",
    "acc_value"
   ]
  },
  {
   "cell_type": "markdown",
   "metadata": {},
   "source": [
    "#### Part 2 (Brute Force)"
   ]
  },
  {
   "cell_type": "code",
   "execution_count": 74,
   "metadata": {},
   "outputs": [],
   "source": [
    "def find(code, inst_to_search):\n",
    "    for i, x in enumerate(code):\n",
    "        if any(inst in x for inst in inst_to_search):\n",
    "            yield i"
   ]
  },
  {
   "cell_type": "code",
   "execution_count": 75,
   "metadata": {},
   "outputs": [],
   "source": [
    "nop_index_generator = find(code, ['nop'])\n",
    "jmp_index_generator = find(code, ['jmp'])"
   ]
  },
  {
   "cell_type": "code",
   "execution_count": 76,
   "metadata": {},
   "outputs": [],
   "source": [
    "for index in nop_index_generator:\n",
    "    new_code = copy.deepcopy(code)\n",
    "    new_code[index][0] = 'jmp'\n",
    "    acc_value = interpret(new_code)"
   ]
  },
  {
   "cell_type": "code",
   "execution_count": 77,
   "metadata": {},
   "outputs": [
    {
     "name": "stdout",
     "output_type": "stream",
     "text": [
      "End of program! Accumulation value: 662\n"
     ]
    }
   ],
   "source": [
    "for index in jmp_index_generator:\n",
    "    new_code = copy.deepcopy(code)\n",
    "    new_code[index][0] = 'nop'\n",
    "    acc_value = interpret(new_code)"
   ]
  }
 ],
 "metadata": {
  "kernelspec": {
   "display_name": "Python 3",
   "language": "python",
   "name": "python3"
  },
  "language_info": {
   "codemirror_mode": {
    "name": "ipython",
    "version": 3
   },
   "file_extension": ".py",
   "mimetype": "text/x-python",
   "name": "python",
   "nbconvert_exporter": "python",
   "pygments_lexer": "ipython3",
   "version": "3.7.4"
  }
 },
 "nbformat": 4,
 "nbformat_minor": 4
}
