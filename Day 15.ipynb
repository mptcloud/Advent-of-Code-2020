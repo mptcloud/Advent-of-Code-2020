{
 "cells": [
  {
   "cell_type": "code",
   "execution_count": null,
   "metadata": {},
   "outputs": [],
   "source": [
    "from pathlib import Path\n",
    "\n",
    "from functools import reduce\n",
    "\n",
    "from collections import defaultdict, deque"
   ]
  },
  {
   "cell_type": "code",
   "execution_count": 2,
   "metadata": {},
   "outputs": [],
   "source": [
    "data_path = Path.home() / 'workstation' / 'dev' / 'Advent-of-Code-2020' / 'data' / 'day15_input.txt'"
   ]
  },
  {
   "cell_type": "code",
   "execution_count": 3,
   "metadata": {},
   "outputs": [
    {
     "data": {
      "text/plain": [
       "True"
      ]
     },
     "execution_count": 3,
     "metadata": {},
     "output_type": "execute_result"
    }
   ],
   "source": [
    "data_path.exists()"
   ]
  },
  {
   "cell_type": "code",
   "execution_count": 4,
   "metadata": {},
   "outputs": [],
   "source": [
    "with open(data_path, 'r') as reader:\n",
    "    num_list= list(map(int, reader.read().strip().split(',')))"
   ]
  },
  {
   "cell_type": "code",
   "execution_count": 8,
   "metadata": {},
   "outputs": [],
   "source": [
    "# Using a queue to store the store the last two turns at which a number showed up\n",
    "\n",
    "def play_game(num_list, num_rounds):\n",
    "    def is_len_gt_2(dict_key):\n",
    "        return len(num_appearance_dict[dict_key]) > 2\n",
    "\n",
    "    def play_nth_round():\n",
    "        if len(num_appearance_dict[number]) == 1:\n",
    "            num_appearance_dict[0].append(i)\n",
    "            if is_len_gt_2(0):\n",
    "                num_appearance_dict[0].popleft()\n",
    "            return 0\n",
    "        else:\n",
    "            age = reduce(\n",
    "                lambda a,b: b-a, \n",
    "                num_appearance_dict[number]\n",
    "            )\n",
    "            num_appearance_dict[age].append(i)\n",
    "            if is_len_gt_2(age):\n",
    "                num_appearance_dict[age].popleft()\n",
    "            return age\n",
    "    \n",
    "    \n",
    "    num_appearance_dict = defaultdict(deque)\n",
    "    for i in range(1, num_rounds+1):\n",
    "        if i <= len(num_list):\n",
    "            number = num_list[i-1]\n",
    "            num_appearance_dict[number].append(i)\n",
    "        else:\n",
    "            number = play_nth_round()\n",
    "    return number"
   ]
  },
  {
   "cell_type": "code",
   "execution_count": 9,
   "metadata": {},
   "outputs": [
    {
     "data": {
      "text/plain": [
       "595"
      ]
     },
     "execution_count": 9,
     "metadata": {},
     "output_type": "execute_result"
    }
   ],
   "source": [
    "play_game(num_list, 2020)"
   ]
  },
  {
   "cell_type": "code",
   "execution_count": 10,
   "metadata": {},
   "outputs": [
    {
     "name": "stdout",
     "output_type": "stream",
     "text": [
      "CPU times: user 38.1 s, sys: 1.43 s, total: 39.5 s\n",
      "Wall time: 39.6 s\n"
     ]
    },
    {
     "data": {
      "text/plain": [
       "1708310"
      ]
     },
     "execution_count": 10,
     "metadata": {},
     "output_type": "execute_result"
    }
   ],
   "source": [
    "%%time\n",
    "play_game(num_list, 30000000)"
   ]
  },
  {
   "cell_type": "code",
   "execution_count": null,
   "metadata": {},
   "outputs": [],
   "source": []
  }
 ],
 "metadata": {
  "kernelspec": {
   "display_name": "Python 3",
   "language": "python",
   "name": "python3"
  },
  "language_info": {
   "codemirror_mode": {
    "name": "ipython",
    "version": 3
   },
   "file_extension": ".py",
   "mimetype": "text/x-python",
   "name": "python",
   "nbconvert_exporter": "python",
   "pygments_lexer": "ipython3",
   "version": "3.7.4"
  }
 },
 "nbformat": 4,
 "nbformat_minor": 4
}
