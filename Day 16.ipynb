{
 "cells": [
  {
   "cell_type": "code",
   "execution_count": 1,
   "metadata": {},
   "outputs": [],
   "source": [
    "from pathlib import Path\n",
    "\n",
    "import re\n",
    "\n",
    "from functools import reduce\n",
    "\n",
    "from collections import defaultdict\n",
    "\n",
    "from itertools import chain"
   ]
  },
  {
   "cell_type": "code",
   "execution_count": 2,
   "metadata": {},
   "outputs": [],
   "source": [
    "data_path = Path.home() / 'workstation' / 'dev' / 'Advent-of-Code-2020' / 'data' / 'day16_input.txt'"
   ]
  },
  {
   "cell_type": "code",
   "execution_count": 3,
   "metadata": {},
   "outputs": [
    {
     "data": {
      "text/plain": [
       "True"
      ]
     },
     "execution_count": 3,
     "metadata": {},
     "output_type": "execute_result"
    }
   ],
   "source": [
    "data_path.exists()"
   ]
  },
  {
   "cell_type": "code",
   "execution_count": 4,
   "metadata": {},
   "outputs": [],
   "source": [
    "with open(data_path, 'r') as reader:\n",
    "    ticket_input = reader.read().strip()"
   ]
  },
  {
   "cell_type": "code",
   "execution_count": 5,
   "metadata": {},
   "outputs": [],
   "source": [
    "validity_conditions, ticket, nearby_tickets = ticket_input.split('\\n\\n')"
   ]
  },
  {
   "cell_type": "code",
   "execution_count": 6,
   "metadata": {},
   "outputs": [],
   "source": [
    "condition_list = validity_conditions.split('\\n')"
   ]
  },
  {
   "cell_type": "code",
   "execution_count": 7,
   "metadata": {},
   "outputs": [],
   "source": [
    "# https://mathieularose.com/function-composition-in-python/\n",
    "\n",
    "def compose(*functions):\n",
    "    return reduce(lambda f, g: lambda x: f(g(x)), functions, lambda x: x)"
   ]
  },
  {
   "cell_type": "code",
   "execution_count": 8,
   "metadata": {},
   "outputs": [],
   "source": [
    "def inclusive_range(start, stop, step=1):\n",
    "    return range(start, (stop+1) if step >= 0 else (stop-1), step)"
   ]
  },
  {
   "cell_type": "code",
   "execution_count": 9,
   "metadata": {},
   "outputs": [],
   "source": [
    "ticket_fields_valid_nums = defaultdict(set) # A dict to keep track of valid numbers for each field\n",
    "\n",
    "def get_valid_numbers(input_string):\n",
    "    def parse_range_strings(str_lst):\n",
    "        return list(map(int, [string for string in str_lst]))\n",
    "    def get_set_of_nums_from_range(num_list):\n",
    "        return set(inclusive_range(*num_list))\n",
    "    \n",
    "    regex_pattern = re.compile(r'([0-9]+-[0-9]+)')\n",
    "    ticket_field, condition_string = input_string.split(': ')\n",
    "    range_1, range_2 = [string.split('-') for string in re.findall(regex_pattern, condition_string)]\n",
    "    get_set_of_valid_nums  = compose(get_set_of_nums_from_range, parse_range_strings)\n",
    "    ticket_fields_valid_nums[ticket_field] = get_set_of_valid_nums(range_1).union(get_set_of_valid_nums(range_2))\n",
    "    return ticket_fields_valid_nums[ticket_field]"
   ]
  },
  {
   "cell_type": "code",
   "execution_count": 10,
   "metadata": {},
   "outputs": [],
   "source": [
    "def parse_tickets(ticket_string):\n",
    "    return [list(map(int, ticket.split(','))) for ticket in ticket_string.split('\\n')[1:]]"
   ]
  },
  {
   "cell_type": "code",
   "execution_count": 11,
   "metadata": {},
   "outputs": [],
   "source": [
    "def is_invalid_num_in_ticket(num_list, invalid_nums):\n",
    "    return any([num in invalid_nums for num in num_list])"
   ]
  },
  {
   "cell_type": "code",
   "execution_count": 12,
   "metadata": {},
   "outputs": [],
   "source": [
    "def get_product_of_departure_fields(num_list, ref_dict):\n",
    "    relevant_indices = [value for key, value in ref_dict.items() if 'departure' in key.lower()]\n",
    "    return reduce(lambda a,b: a*b, map(lambda i: num_list[i], relevant_indices))"
   ]
  },
  {
   "cell_type": "markdown",
   "metadata": {},
   "source": [
    "#### Part 1"
   ]
  },
  {
   "cell_type": "code",
   "execution_count": 13,
   "metadata": {},
   "outputs": [],
   "source": [
    "all_valid_numbers = reduce(\n",
    "    lambda set_1, set_2: set_1.union(set_2), \n",
    "    map(get_valid_numbers, condition_list)\n",
    ")"
   ]
  },
  {
   "cell_type": "code",
   "execution_count": 14,
   "metadata": {},
   "outputs": [],
   "source": [
    "invalid_nearby_nums = [num for num in chain(*parse_tickets(nearby_tickets)) if num not in all_valid_numbers]"
   ]
  },
  {
   "cell_type": "code",
   "execution_count": 15,
   "metadata": {},
   "outputs": [],
   "source": [
    "ticket_scan_error_rate = sum(invalid_nearby_nums)"
   ]
  },
  {
   "cell_type": "code",
   "execution_count": 16,
   "metadata": {},
   "outputs": [
    {
     "data": {
      "text/plain": [
       "20058"
      ]
     },
     "execution_count": 16,
     "metadata": {},
     "output_type": "execute_result"
    }
   ],
   "source": [
    "ticket_scan_error_rate"
   ]
  },
  {
   "cell_type": "markdown",
   "metadata": {},
   "source": [
    "#### Part 2"
   ]
  },
  {
   "cell_type": "code",
   "execution_count": 17,
   "metadata": {},
   "outputs": [],
   "source": [
    "list_of_nearby_tickets = parse_tickets(nearby_tickets)\n",
    "\n",
    "valid_nearby_tickets = [ticket for ticket in list_of_nearby_tickets if not is_invalid_num_in_ticket(ticket, invalid_nearby_nums)]\n",
    "invalid_nearby_tickets = [ticket for ticket in list_of_nearby_tickets if is_invalid_num_in_ticket(ticket, invalid_nearby_nums)]"
   ]
  },
  {
   "cell_type": "code",
   "execution_count": 18,
   "metadata": {},
   "outputs": [],
   "source": [
    "assert len(valid_nearby_tickets) + len(invalid_nearby_tickets) == len(list_of_nearby_tickets)"
   ]
  },
  {
   "cell_type": "code",
   "execution_count": 19,
   "metadata": {},
   "outputs": [],
   "source": [
    "temp_copy = dict(ticket_fields_valid_nums)\n",
    "index_names_dict = defaultdict(list)\n",
    "index_num = 0\n",
    "\n",
    "for field_entries in zip(*valid_nearby_tickets):\n",
    "    entries = set(field_entries)\n",
    "    for field_name, valid_entries in temp_copy.items():\n",
    "        invalid_entries = entries - valid_entries\n",
    "        if not invalid_entries:\n",
    "            index_names_dict[index_num].append(field_name)\n",
    "    index_num += 1"
   ]
  },
  {
   "cell_type": "code",
   "execution_count": 20,
   "metadata": {},
   "outputs": [],
   "source": [
    "sorted_indices = sorted(index_names_dict, key= lambda key: len(index_names_dict[key]))"
   ]
  },
  {
   "cell_type": "code",
   "execution_count": 21,
   "metadata": {},
   "outputs": [
    {
     "data": {
      "text/plain": [
       "[13, 15, 14, 3, 9, 2, 18, 7, 0, 4, 5, 8, 12, 10, 6, 19, 1, 16, 11, 17]"
      ]
     },
     "execution_count": 21,
     "metadata": {},
     "output_type": "execute_result"
    }
   ],
   "source": [
    "sorted_indices"
   ]
  },
  {
   "cell_type": "code",
   "execution_count": 22,
   "metadata": {},
   "outputs": [],
   "source": [
    "reference_dict = {}\n",
    "\n",
    "first_index = sorted_indices[0]\n",
    "first_col_name = index_names_dict[first_index]\n",
    "reference_dict[first_col_name[0]] = first_index\n",
    "\n",
    "visited_names = set(index_names_dict[first_index])\n",
    "\n",
    "for index in sorted_indices[1:]:\n",
    "    unvisited_name = set(index_names_dict[index]) - visited_names\n",
    "    field_name = next(iter(unvisited_name))\n",
    "    reference_dict[field_name] = index\n",
    "    visited_names.update(unvisited_name)"
   ]
  },
  {
   "cell_type": "code",
   "execution_count": 23,
   "metadata": {},
   "outputs": [
    {
     "data": {
      "text/plain": [
       "{'type': 13,\n",
       " 'arrival platform': 15,\n",
       " 'duration': 14,\n",
       " 'route': 3,\n",
       " 'departure platform': 9,\n",
       " 'departure station': 2,\n",
       " 'departure date': 18,\n",
       " 'departure location': 7,\n",
       " 'departure time': 0,\n",
       " 'departure track': 4,\n",
       " 'arrival track': 5,\n",
       " 'price': 8,\n",
       " 'zone': 12,\n",
       " 'row': 10,\n",
       " 'arrival location': 6,\n",
       " 'wagon': 19,\n",
       " 'arrival station': 1,\n",
       " 'class': 16,\n",
       " 'train': 11,\n",
       " 'seat': 17}"
      ]
     },
     "execution_count": 23,
     "metadata": {},
     "output_type": "execute_result"
    }
   ],
   "source": [
    "reference_dict"
   ]
  },
  {
   "cell_type": "code",
   "execution_count": 24,
   "metadata": {},
   "outputs": [],
   "source": [
    "ticket_nums = list(chain(*parse_tickets(ticket)))"
   ]
  },
  {
   "cell_type": "code",
   "execution_count": 25,
   "metadata": {},
   "outputs": [
    {
     "data": {
      "text/plain": [
       "366871907221"
      ]
     },
     "execution_count": 25,
     "metadata": {},
     "output_type": "execute_result"
    }
   ],
   "source": [
    "get_product_of_departure_fields(ticket_nums, reference_dict)"
   ]
  }
 ],
 "metadata": {
  "kernelspec": {
   "display_name": "Python 3",
   "language": "python",
   "name": "python3"
  },
  "language_info": {
   "codemirror_mode": {
    "name": "ipython",
    "version": 3
   },
   "file_extension": ".py",
   "mimetype": "text/x-python",
   "name": "python",
   "nbconvert_exporter": "python",
   "pygments_lexer": "ipython3",
   "version": "3.7.4"
  }
 },
 "nbformat": 4,
 "nbformat_minor": 4
}
