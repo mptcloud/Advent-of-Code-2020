{
 "cells": [
  {
   "cell_type": "code",
   "execution_count": 48,
   "metadata": {},
   "outputs": [],
   "source": [
    "from pathlib import Path\n",
    "\n",
    "from collections import deque\n",
    "\n",
    "from itertools import combinations\n",
    "\n",
    "import numpy as np"
   ]
  },
  {
   "cell_type": "code",
   "execution_count": 2,
   "metadata": {},
   "outputs": [],
   "source": [
    "data_path = Path.home() / 'workstation' / 'dev' / 'Advent-of-Code-2020' / 'data' / 'day9_input.txt'"
   ]
  },
  {
   "cell_type": "code",
   "execution_count": 3,
   "metadata": {},
   "outputs": [
    {
     "data": {
      "text/plain": [
       "True"
      ]
     },
     "execution_count": 3,
     "metadata": {},
     "output_type": "execute_result"
    }
   ],
   "source": [
    "data_path.exists()"
   ]
  },
  {
   "cell_type": "code",
   "execution_count": 4,
   "metadata": {},
   "outputs": [],
   "source": [
    "with open(data_path, 'r') as reader:\n",
    "    text_input = reader.read().strip()"
   ]
  },
  {
   "cell_type": "code",
   "execution_count": 5,
   "metadata": {},
   "outputs": [],
   "source": [
    "nums = (int(num) for num in text_input.split('\\n'))"
   ]
  },
  {
   "cell_type": "markdown",
   "metadata": {},
   "source": [
    "#### Part 1"
   ]
  },
  {
   "cell_type": "code",
   "execution_count": 6,
   "metadata": {},
   "outputs": [],
   "source": [
    "def is_valid_num(num, sliding_window):\n",
    "    return any(sum(pair) == num for pair in combinations(sliding_window, 2))"
   ]
  },
  {
   "cell_type": "code",
   "execution_count": 7,
   "metadata": {},
   "outputs": [],
   "source": [
    "q = deque()\n",
    "\n",
    "def find_invalid_num_and_window(nums):\n",
    "    for num in nums:\n",
    "        if len(q) > 24:\n",
    "            num_to_check = num\n",
    "            sliding_window = q\n",
    "            if not is_valid_num(num_to_check, sliding_window):\n",
    "                return num_to_check, sliding_window\n",
    "            q.popleft()\n",
    "        q.append(num)"
   ]
  },
  {
   "cell_type": "code",
   "execution_count": 8,
   "metadata": {},
   "outputs": [
    {
     "data": {
      "text/plain": [
       "85848519"
      ]
     },
     "execution_count": 8,
     "metadata": {},
     "output_type": "execute_result"
    }
   ],
   "source": [
    "invalid_num, sliding_window = find_invalid_num_and_window(nums)\n",
    "\n",
    "invalid_num"
   ]
  },
  {
   "cell_type": "markdown",
   "metadata": {},
   "source": [
    "#### Part 2"
   ]
  },
  {
   "cell_type": "code",
   "execution_count": 63,
   "metadata": {},
   "outputs": [],
   "source": [
    "nums = (int(num) for num in text_input.split('\\n'))\n",
    "\n",
    "list_nums = list(nums)"
   ]
  },
  {
   "cell_type": "code",
   "execution_count": 64,
   "metadata": {},
   "outputs": [
    {
     "data": {
      "text/plain": [
       "1000"
      ]
     },
     "execution_count": 64,
     "metadata": {},
     "output_type": "execute_result"
    }
   ],
   "source": [
    "len(list_nums)"
   ]
  },
  {
   "cell_type": "code",
   "execution_count": 65,
   "metadata": {},
   "outputs": [],
   "source": [
    "# Window len = L, Stride len/stepsize = S\n",
    "# https://stackoverflow.com/questions/40084931/taking-subarrays-from-numpy-array-with-given-stride-stepsize?noredirect=1&lq=1\n",
    "\n",
    "def contiguous_grouper(lst_nums, window_length, stride_step):\n",
    "    a = np.array(lst_nums)\n",
    "    n_rows = ((a.size-window_length) // stride_step) + 1\n",
    "    res = a[stride_step*np.arange(n_rows)[:, None] + np.arange(window_length)]\n",
    "    return res.tolist()"
   ]
  },
  {
   "cell_type": "code",
   "execution_count": 75,
   "metadata": {},
   "outputs": [],
   "source": [
    "def check_contiguous_sums_fixed_length(lst_nums, n, num_to_check):\n",
    "    groups = contiguous_grouper(lst_nums, window_length=n, stride_step=1)\n",
    "    for group in groups:\n",
    "        if num_to_check == sum(group):\n",
    "            return list(group)\n",
    "    print(f'No success for window size: {n}')\n",
    "\n",
    "def find_relevant_numbers(list_nums, num_to_check):\n",
    "    for n in range(2, 100):\n",
    "        contiguous_list = check_contiguous_sums_fixed_length(list_nums, n, num_to_check)\n",
    "        if contiguous_list:\n",
    "            return max(contiguous_list), min(contiguous_list)"
   ]
  },
  {
   "cell_type": "code",
   "execution_count": 76,
   "metadata": {},
   "outputs": [
    {
     "data": {
      "text/plain": [
       "85848519"
      ]
     },
     "execution_count": 76,
     "metadata": {},
     "output_type": "execute_result"
    }
   ],
   "source": [
    "invalid_num"
   ]
  },
  {
   "cell_type": "code",
   "execution_count": 77,
   "metadata": {},
   "outputs": [
    {
     "name": "stdout",
     "output_type": "stream",
     "text": [
      "No success for window size: 2\n",
      "No success for window size: 3\n",
      "No success for window size: 4\n",
      "No success for window size: 5\n",
      "No success for window size: 6\n",
      "No success for window size: 7\n",
      "No success for window size: 8\n",
      "No success for window size: 9\n",
      "No success for window size: 10\n",
      "No success for window size: 11\n",
      "No success for window size: 12\n",
      "No success for window size: 13\n",
      "No success for window size: 14\n",
      "No success for window size: 15\n",
      "No success for window size: 16\n"
     ]
    }
   ],
   "source": [
    "a, b = find_relevant_numbers(list_nums, invalid_num)"
   ]
  },
  {
   "cell_type": "code",
   "execution_count": 78,
   "metadata": {},
   "outputs": [
    {
     "data": {
      "text/plain": [
       "(9992384, 3421814)"
      ]
     },
     "execution_count": 78,
     "metadata": {},
     "output_type": "execute_result"
    }
   ],
   "source": [
    "a, b"
   ]
  },
  {
   "cell_type": "code",
   "execution_count": 79,
   "metadata": {},
   "outputs": [
    {
     "data": {
      "text/plain": [
       "13414198"
      ]
     },
     "execution_count": 79,
     "metadata": {},
     "output_type": "execute_result"
    }
   ],
   "source": [
    "a + b"
   ]
  }
 ],
 "metadata": {
  "kernelspec": {
   "display_name": "Python 3",
   "language": "python",
   "name": "python3"
  },
  "language_info": {
   "codemirror_mode": {
    "name": "ipython",
    "version": 3
   },
   "file_extension": ".py",
   "mimetype": "text/x-python",
   "name": "python",
   "nbconvert_exporter": "python",
   "pygments_lexer": "ipython3",
   "version": "3.7.4"
  }
 },
 "nbformat": 4,
 "nbformat_minor": 4
}
