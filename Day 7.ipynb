{
 "cells": [
  {
   "cell_type": "code",
   "execution_count": 1,
   "metadata": {},
   "outputs": [],
   "source": [
    "from pathlib import Path\n",
    "\n",
    "import re\n",
    "\n",
    "from collections import defaultdict, deque"
   ]
  },
  {
   "cell_type": "code",
   "execution_count": 2,
   "metadata": {},
   "outputs": [],
   "source": [
    "data_path = Path.home() / 'workstation' / 'dev' / 'Advent-of-Code-2020' / 'data' / 'day7_input.txt'"
   ]
  },
  {
   "cell_type": "code",
   "execution_count": 3,
   "metadata": {},
   "outputs": [
    {
     "data": {
      "text/plain": [
       "True"
      ]
     },
     "execution_count": 3,
     "metadata": {},
     "output_type": "execute_result"
    }
   ],
   "source": [
    "data_path.exists()"
   ]
  },
  {
   "cell_type": "code",
   "execution_count": 4,
   "metadata": {},
   "outputs": [],
   "source": [
    "with open(data_path, 'r') as reader:\n",
    "    text_input = reader.read().strip()"
   ]
  },
  {
   "cell_type": "code",
   "execution_count": 5,
   "metadata": {},
   "outputs": [],
   "source": [
    "bag_hierarchies = text_input.split('\\n')"
   ]
  },
  {
   "cell_type": "code",
   "execution_count": 6,
   "metadata": {},
   "outputs": [],
   "source": [
    "regex_pattern = re.compile(r'(\\d+)\\s(\\w+\\s\\w+)(?=\\sbag)')\n",
    "\n",
    "# dictionary of bags with the 'values' being the bag types that can be contained in (are smaller than) the 'key'\n",
    "bag_dict = defaultdict(list)\n",
    "\n",
    "for hierarchy in bag_hierarchies:\n",
    "    bag_list = hierarchy.split(' bags contain ')\n",
    "    dict_key = bag_list[0]\n",
    "\n",
    "    smaller_bag_types = regex_pattern.findall(bag_list[1])\n",
    "    # Smallest bags\n",
    "    if not smaller_bag_types:\n",
    "        bag_dict[dict_key].append(('0', 'None'))\n",
    "    else:\n",
    "        for bag_type in smaller_bag_types:\n",
    "            bag_dict[dict_key].append(bag_type)"
   ]
  },
  {
   "cell_type": "code",
   "execution_count": 7,
   "metadata": {},
   "outputs": [],
   "source": [
    "# In this dict, now 'values' for a particular 'key' signify bags than can contain (are larger than) the 'key'\n",
    "\n",
    "inverted_bag_dict = defaultdict(list)\n",
    "\n",
    "for key, value in bag_dict.items():\n",
    "    for _, bag_type in value:\n",
    "        inverted_bag_dict[bag_type].append(key)"
   ]
  },
  {
   "cell_type": "code",
   "execution_count": 8,
   "metadata": {},
   "outputs": [],
   "source": [
    "# Identifying the largest bags\n",
    "\n",
    "bags_not_contained_anywhere = [key for key in list(bag_dict.keys()) if key not in list(inverted_bag_dict.keys())]"
   ]
  },
  {
   "cell_type": "code",
   "execution_count": 9,
   "metadata": {},
   "outputs": [],
   "source": [
    "for bag in bags_not_contained_anywhere:\n",
    "    inverted_bag_dict[bag].append('None')"
   ]
  },
  {
   "cell_type": "markdown",
   "metadata": {},
   "source": [
    "#### Part 1"
   ]
  },
  {
   "cell_type": "code",
   "execution_count": 10,
   "metadata": {},
   "outputs": [],
   "source": [
    "# Node: A certain bag type\n",
    "# Child node: A bag type that is larger than the parent node\n",
    "# BFS search employed here\n",
    "\n",
    "larger_bags = set()\n",
    "queue = deque()\n",
    "queue.append('shiny gold')\n",
    "\n",
    "while queue:\n",
    "    level_size = len(queue)\n",
    "    current_level = []\n",
    "    for _ in range(level_size):\n",
    "        current_node = queue.popleft()\n",
    "        # add the node to the current level\n",
    "        current_level.append(current_node)\n",
    "        # insert the children of current node in the queue, if children exist\n",
    "        list_children_nodes = inverted_bag_dict[current_node]\n",
    "        if list_children_nodes != ['None']:\n",
    "            queue.extend(list_children_nodes)\n",
    "    larger_bags.update(current_level)"
   ]
  },
  {
   "cell_type": "code",
   "execution_count": 11,
   "metadata": {},
   "outputs": [],
   "source": [
    "larger_bags.remove('shiny gold')"
   ]
  },
  {
   "cell_type": "code",
   "execution_count": 12,
   "metadata": {},
   "outputs": [
    {
     "data": {
      "text/plain": [
       "337"
      ]
     },
     "execution_count": 12,
     "metadata": {},
     "output_type": "execute_result"
    }
   ],
   "source": [
    "len(larger_bags)"
   ]
  },
  {
   "cell_type": "markdown",
   "metadata": {},
   "source": [
    "#### Part 2"
   ]
  },
  {
   "cell_type": "code",
   "execution_count": 13,
   "metadata": {},
   "outputs": [],
   "source": [
    "def count_num_bags(dict_key):\n",
    "    count = 0\n",
    "    \n",
    "    if bag_dict[dict_key] == [('0', 'None')]:\n",
    "        return count\n",
    "    \n",
    "    for bag_count, bag_type in bag_dict[dict_key]:\n",
    "        bag_count = int(bag_count)\n",
    "        count += bag_count\n",
    "        count += bag_count*count_num_bags(bag_type)\n",
    "    \n",
    "    return count"
   ]
  },
  {
   "cell_type": "code",
   "execution_count": 14,
   "metadata": {},
   "outputs": [
    {
     "data": {
      "text/plain": [
       "50100"
      ]
     },
     "execution_count": 14,
     "metadata": {},
     "output_type": "execute_result"
    }
   ],
   "source": [
    "count_num_bags('shiny gold')"
   ]
  }
 ],
 "metadata": {
  "kernelspec": {
   "display_name": "Python 3",
   "language": "python",
   "name": "python3"
  },
  "language_info": {
   "codemirror_mode": {
    "name": "ipython",
    "version": 3
   },
   "file_extension": ".py",
   "mimetype": "text/x-python",
   "name": "python",
   "nbconvert_exporter": "python",
   "pygments_lexer": "ipython3",
   "version": "3.7.4"
  }
 },
 "nbformat": 4,
 "nbformat_minor": 4
}
