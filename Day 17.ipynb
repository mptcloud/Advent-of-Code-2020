{
 "cells": [
  {
   "cell_type": "code",
   "execution_count": 1,
   "metadata": {},
   "outputs": [],
   "source": [
    "from pathlib import Path\n",
    "\n",
    "from collections import Counter\n",
    "\n",
    "from itertools import chain, product"
   ]
  },
  {
   "cell_type": "code",
   "execution_count": 2,
   "metadata": {},
   "outputs": [],
   "source": [
    "data_path = Path.home() / 'workstation' / 'dev' / 'Advent-of-Code-2020' / 'data' / 'day17_input.txt'"
   ]
  },
  {
   "cell_type": "code",
   "execution_count": 3,
   "metadata": {},
   "outputs": [
    {
     "data": {
      "text/plain": [
       "True"
      ]
     },
     "execution_count": 3,
     "metadata": {},
     "output_type": "execute_result"
    }
   ],
   "source": [
    "data_path.exists()"
   ]
  },
  {
   "cell_type": "code",
   "execution_count": 4,
   "metadata": {},
   "outputs": [],
   "source": [
    "with open(data_path, 'r') as reader:\n",
    "    initial_cell_input = reader.read().strip()"
   ]
  },
  {
   "cell_type": "code",
   "execution_count": 5,
   "metadata": {},
   "outputs": [],
   "source": [
    "def parse_input(input_text, num_dim):\n",
    "    world = set()\n",
    "    for row_index, row in enumerate(initial_cell_input.split('\\n')):\n",
    "        for col_index, char in enumerate(row):\n",
    "            if char == '#':\n",
    "                world.add((col_index, row_index) + (0,) * (num_dim-2))\n",
    "    return world"
   ]
  },
  {
   "cell_type": "code",
   "execution_count": 6,
   "metadata": {},
   "outputs": [],
   "source": [
    "def neighbours(*cell):\n",
    "    \"All 26 3-D adjacent neighbouring cells\"\n",
    "    all_nbrs = []\n",
    "    actual_cell = cell[0]\n",
    "    \n",
    "    delta_list = [0, 1, -1]\n",
    "    for delta_tuple in product(delta_list, repeat=len(actual_cell)):\n",
    "        if not all(val == 0 for val in delta_tuple):\n",
    "            all_nbrs.append(\n",
    "                tuple(cell_coord + delta_tuple[i] for i, cell_coord in enumerate(actual_cell))\n",
    "            )\n",
    "    return all_nbrs"
   ]
  },
  {
   "cell_type": "code",
   "execution_count": 7,
   "metadata": {},
   "outputs": [],
   "source": [
    "def neighbour_counts(world):\n",
    "    \"A {cell: int} counter of the number of live neighbors for each cell that has neighbors\"\n",
    "    return Counter(nb for cell in world \n",
    "                      for nb in neighbours(cell))\n",
    "\n",
    "\n",
    "def next_generation(world):\n",
    "    \"The set of live cells in the next generation\"\n",
    "    possible_cells = counts = neighbour_counts(world)\n",
    "    return {cell for cell in possible_cells\n",
    "            if (counts[cell] == 3) \n",
    "            or (counts[cell] == 2 and cell in world)}\n",
    "\n",
    "\n",
    "def run_simulation(world, num_time_steps):\n",
    "    \"Run the seating changes for n time steps\"\n",
    "    for g in range(num_time_steps):\n",
    "        world = next_generation(world)\n",
    "    return world"
   ]
  },
  {
   "cell_type": "markdown",
   "metadata": {},
   "source": [
    "#### Part 1"
   ]
  },
  {
   "cell_type": "code",
   "execution_count": 10,
   "metadata": {
    "scrolled": true
   },
   "outputs": [],
   "source": [
    "world = parse_input(initial_cell_input, num_dim=3)"
   ]
  },
  {
   "cell_type": "code",
   "execution_count": 11,
   "metadata": {},
   "outputs": [],
   "source": [
    "new_world = run_simulation(world, 6)"
   ]
  },
  {
   "cell_type": "code",
   "execution_count": 12,
   "metadata": {},
   "outputs": [
    {
     "data": {
      "text/plain": [
       "242"
      ]
     },
     "execution_count": 12,
     "metadata": {},
     "output_type": "execute_result"
    }
   ],
   "source": [
    "len(new_world)"
   ]
  },
  {
   "cell_type": "markdown",
   "metadata": {},
   "source": [
    "#### Part 2"
   ]
  },
  {
   "cell_type": "code",
   "execution_count": 13,
   "metadata": {
    "scrolled": true
   },
   "outputs": [],
   "source": [
    "world = parse_input(initial_cell_input, num_dim=4)"
   ]
  },
  {
   "cell_type": "code",
   "execution_count": 14,
   "metadata": {},
   "outputs": [],
   "source": [
    "new_world = run_simulation(world, 6)"
   ]
  },
  {
   "cell_type": "code",
   "execution_count": 15,
   "metadata": {},
   "outputs": [
    {
     "data": {
      "text/plain": [
       "2292"
      ]
     },
     "execution_count": 15,
     "metadata": {},
     "output_type": "execute_result"
    }
   ],
   "source": [
    "len(new_world)"
   ]
  },
  {
   "cell_type": "markdown",
   "metadata": {},
   "source": [
    "#### Neighbour calculation the old way (for reference)"
   ]
  },
  {
   "cell_type": "code",
   "execution_count": 9,
   "metadata": {},
   "outputs": [],
   "source": [
    "def neighbours(cell):\n",
    "    \"All 26 3-D adjacent neighbouring cells\"\n",
    "    (x, y, z) = cell\n",
    "    all_nbrs = []\n",
    "    \n",
    "    delta_list = [0, 1, -1]\n",
    "    for delta_tuple in product(delta_list, repeat=3):\n",
    "        if not all(val == 0 for val in delta_tuple):\n",
    "            dx, dy, dz = delta_tuple\n",
    "            new_x = x+dx\n",
    "            new_y = y+dy\n",
    "            new_z = z+dz\n",
    "            all_nbrs.append([new_x, new_y, new_z])\n",
    "\n",
    "    return all_nbrs"
   ]
  }
 ],
 "metadata": {
  "kernelspec": {
   "display_name": "Python 3",
   "language": "python",
   "name": "python3"
  },
  "language_info": {
   "codemirror_mode": {
    "name": "ipython",
    "version": 3
   },
   "file_extension": ".py",
   "mimetype": "text/x-python",
   "name": "python",
   "nbconvert_exporter": "python",
   "pygments_lexer": "ipython3",
   "version": "3.7.4"
  }
 },
 "nbformat": 4,
 "nbformat_minor": 4
}
