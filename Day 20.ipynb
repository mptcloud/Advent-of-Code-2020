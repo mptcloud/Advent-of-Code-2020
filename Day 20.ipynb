{
 "cells": [
  {
   "cell_type": "code",
   "execution_count": 1,
   "metadata": {},
   "outputs": [],
   "source": [
    "from pathlib import Path\n",
    "\n",
    "from collections import defaultdict, Counter\n",
    "\n",
    "import numpy as np\n",
    "\n",
    "from itertools import combinations\n",
    "\n",
    "from functools import reduce"
   ]
  },
  {
   "cell_type": "code",
   "execution_count": 2,
   "metadata": {},
   "outputs": [],
   "source": [
    "data_path = Path.home() / 'workstation' / 'dev' / 'Advent-of-Code-2020' / 'data' / 'day20_input.txt'"
   ]
  },
  {
   "cell_type": "code",
   "execution_count": 3,
   "metadata": {},
   "outputs": [
    {
     "data": {
      "text/plain": [
       "True"
      ]
     },
     "execution_count": 3,
     "metadata": {},
     "output_type": "execute_result"
    }
   ],
   "source": [
    "data_path.exists()"
   ]
  },
  {
   "cell_type": "code",
   "execution_count": 4,
   "metadata": {},
   "outputs": [],
   "source": [
    "with open(data_path, 'r') as reader:\n",
    "    image_input = reader.read().strip()"
   ]
  },
  {
   "cell_type": "code",
   "execution_count": 5,
   "metadata": {},
   "outputs": [],
   "source": [
    "imgs_w_title = image_input.split('\\n\\n')"
   ]
  },
  {
   "cell_type": "code",
   "execution_count": 6,
   "metadata": {},
   "outputs": [],
   "source": [
    "def get_pixels(text): \n",
    "    \"Translate the '.' and '#' to 0's and 1's\"\n",
    "    bits = {'#': 1, '.': 0}\n",
    "    return tuple(bits[p] for p in text)\n",
    "\n",
    "def rotate_ctrclockwise(array):\n",
    "    return np.rot90(array)\n",
    "\n",
    "def flip_horizontal(array):\n",
    "    return np.fliplr(array)\n",
    "\n",
    "def flip_vertical(array):\n",
    "    return np.flipud(array)\n",
    "\n",
    "def get_tile_borders(tile_array):\n",
    "    return [\n",
    "        tile_array[:, 0],\n",
    "        tile_array[:, -1],\n",
    "        tile_array[0, :],\n",
    "        tile_array[-1, :]\n",
    "    ]"
   ]
  },
  {
   "cell_type": "code",
   "execution_count": 7,
   "metadata": {},
   "outputs": [],
   "source": [
    "image_dict = {}\n",
    "\n",
    "for image in imgs_w_title:\n",
    "    title, *image = image.split('\\n')\n",
    "    title = title[:-1] # Getting rid of colon\n",
    "    tile_id = [int(s) for s in title.split() if s.isdigit()]\n",
    "    image_dict[tile_id[0]] = np.asarray(list(get_pixels(row) for row in image))"
   ]
  },
  {
   "cell_type": "code",
   "execution_count": 8,
   "metadata": {},
   "outputs": [],
   "source": [
    "# All possible tile borders. 8 possibilities: original borders + flips\n",
    "\n",
    "tile_borders = defaultdict(list)\n",
    "\n",
    "for tile_id, tile in image_dict.items():\n",
    "    tile_borders[tile_id] = (\n",
    "        get_tile_borders(tile) +\n",
    "        list(map(flip_vertical, get_tile_borders(tile)))\n",
    "    )"
   ]
  },
  {
   "cell_type": "code",
   "execution_count": 9,
   "metadata": {},
   "outputs": [],
   "source": [
    "common_borders = defaultdict(list)\n",
    "\n",
    "for id_1, id_2 in combinations(tile_borders.keys(), 2):\n",
    "    cmn_borders = []\n",
    "    for bdr in tile_borders[id_1]:\n",
    "        if any(np.array_equal(bdr, x) for x in tile_borders[id_2]):\n",
    "            cmn_borders.append(bdr)\n",
    "    common_borders[(id_1, id_2)] = cmn_borders"
   ]
  },
  {
   "cell_type": "markdown",
   "metadata": {},
   "source": [
    "#### Part 1"
   ]
  },
  {
   "cell_type": "code",
   "execution_count": 10,
   "metadata": {},
   "outputs": [],
   "source": [
    "def get_corner_tile_ids(border_pair_dict):\n",
    "    def get_neighbouring_pairs():\n",
    "        tiles = []\n",
    "\n",
    "        for ids in border_pair_dict.keys():\n",
    "            if border_pair_dict[ids]:\n",
    "                id_1, id_2 = ids\n",
    "                tiles.extend([*ids])\n",
    "    \n",
    "        return tiles\n",
    "    \n",
    "    tiles = get_neighbouring_pairs()\n",
    "    \n",
    "    for k, v in Counter(tiles).items():\n",
    "        if v == 2:\n",
    "            yield k"
   ]
  },
  {
   "cell_type": "code",
   "execution_count": 11,
   "metadata": {},
   "outputs": [
    {
     "data": {
      "text/plain": [
       "15670959891893"
      ]
     },
     "execution_count": 11,
     "metadata": {},
     "output_type": "execute_result"
    }
   ],
   "source": [
    "reduce(lambda x, y: x*y, list(get_corner_tile_ids(common_borders)))"
   ]
  }
 ],
 "metadata": {
  "kernelspec": {
   "display_name": "Python 3",
   "language": "python",
   "name": "python3"
  },
  "language_info": {
   "codemirror_mode": {
    "name": "ipython",
    "version": 3
   },
   "file_extension": ".py",
   "mimetype": "text/x-python",
   "name": "python",
   "nbconvert_exporter": "python",
   "pygments_lexer": "ipython3",
   "version": "3.7.4"
  }
 },
 "nbformat": 4,
 "nbformat_minor": 4
}
