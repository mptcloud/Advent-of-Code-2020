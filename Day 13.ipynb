{
 "cells": [
  {
   "cell_type": "code",
   "execution_count": 1,
   "metadata": {},
   "outputs": [],
   "source": [
    "from pathlib import Path\n",
    "\n",
    "import re\n",
    "\n",
    "from functools import reduce"
   ]
  },
  {
   "cell_type": "code",
   "execution_count": 2,
   "metadata": {},
   "outputs": [],
   "source": [
    "data_path = Path.home() / 'workstation' / 'dev' / 'Advent-of-Code-2020' / 'data' / 'day13_input.txt'"
   ]
  },
  {
   "cell_type": "code",
   "execution_count": 3,
   "metadata": {},
   "outputs": [
    {
     "data": {
      "text/plain": [
       "True"
      ]
     },
     "execution_count": 3,
     "metadata": {},
     "output_type": "execute_result"
    }
   ],
   "source": [
    "data_path.exists()"
   ]
  },
  {
   "cell_type": "code",
   "execution_count": 4,
   "metadata": {},
   "outputs": [],
   "source": [
    "with open(data_path, 'r') as reader:\n",
    "    bus_notes = reader.read().strip()"
   ]
  },
  {
   "cell_type": "code",
   "execution_count": 5,
   "metadata": {},
   "outputs": [],
   "source": [
    "def parse(note):\n",
    "    split_string = note.split(',')\n",
    "    if len(split_string) > 1:\n",
    "         return [(x if x.isalpha() else int(x)) for x in split_string]\n",
    "    else:\n",
    "        x = split_string[0]\n",
    "        return x if x.isalpha() else int(x)"
   ]
  },
  {
   "cell_type": "code",
   "execution_count": 17,
   "metadata": {},
   "outputs": [],
   "source": [
    "timestamp, bus_ids = map(parse, bus_notes.split('\\n'))"
   ]
  },
  {
   "cell_type": "code",
   "execution_count": 15,
   "metadata": {},
   "outputs": [],
   "source": [
    "timestamp = 939\n",
    "bus_ids = [7,13,'x','x',59,'x',31,19]"
   ]
  },
  {
   "cell_type": "markdown",
   "metadata": {},
   "source": [
    "#### Part 1"
   ]
  },
  {
   "cell_type": "code",
   "execution_count": 7,
   "metadata": {},
   "outputs": [
    {
     "data": {
      "text/plain": [
       "1000104"
      ]
     },
     "execution_count": 7,
     "metadata": {},
     "output_type": "execute_result"
    }
   ],
   "source": [
    "timestamp"
   ]
  },
  {
   "cell_type": "code",
   "execution_count": 8,
   "metadata": {},
   "outputs": [],
   "source": [
    "bus_periods = [bus for bus in bus_ids if isinstance(bus, int)]"
   ]
  },
  {
   "cell_type": "code",
   "execution_count": 9,
   "metadata": {},
   "outputs": [
    {
     "data": {
      "text/plain": [
       "[41, 37, 659, 23, 13, 19, 29, 937, 17]"
      ]
     },
     "execution_count": 9,
     "metadata": {},
     "output_type": "execute_result"
    }
   ],
   "source": [
    "bus_periods"
   ]
  },
  {
   "cell_type": "code",
   "execution_count": 10,
   "metadata": {},
   "outputs": [],
   "source": [
    "result = min([(period, period - timestamp % period) for period in bus_periods], key=lambda tup: tup[1]) "
   ]
  },
  {
   "cell_type": "code",
   "execution_count": 11,
   "metadata": {},
   "outputs": [
    {
     "data": {
      "text/plain": [
       "115"
      ]
     },
     "execution_count": 11,
     "metadata": {},
     "output_type": "execute_result"
    }
   ],
   "source": [
    "reduce(lambda x,y: x*y, result)"
   ]
  },
  {
   "cell_type": "markdown",
   "metadata": {},
   "source": [
    "#### Part 2 (TODO: Implement a CRT solver. Currently solved using an online solver)"
   ]
  },
  {
   "cell_type": "code",
   "execution_count": 20,
   "metadata": {},
   "outputs": [
    {
     "name": "stdout",
     "output_type": "stream",
     "text": [
      "0 41\n",
      "1 x\n",
      "2 x\n",
      "3 x\n",
      "4 x\n",
      "5 x\n",
      "6 x\n",
      "7 x\n",
      "8 x\n",
      "9 x\n",
      "10 x\n",
      "11 x\n",
      "12 x\n",
      "13 x\n",
      "14 x\n",
      "15 x\n",
      "16 x\n",
      "17 x\n",
      "18 x\n",
      "19 x\n",
      "20 x\n",
      "21 x\n",
      "22 x\n",
      "23 x\n",
      "24 x\n",
      "25 x\n",
      "26 x\n",
      "27 x\n",
      "28 x\n",
      "29 x\n",
      "30 x\n",
      "31 x\n",
      "32 x\n",
      "33 x\n",
      "34 x\n",
      "35 37\n",
      "36 x\n",
      "37 x\n",
      "38 x\n",
      "39 x\n",
      "40 x\n",
      "41 659\n",
      "42 x\n",
      "43 x\n",
      "44 x\n",
      "45 x\n",
      "46 x\n",
      "47 x\n",
      "48 x\n",
      "49 23\n",
      "50 x\n",
      "51 x\n",
      "52 x\n",
      "53 x\n",
      "54 13\n",
      "55 x\n",
      "56 x\n",
      "57 x\n",
      "58 x\n",
      "59 x\n",
      "60 19\n",
      "61 x\n",
      "62 x\n",
      "63 x\n",
      "64 x\n",
      "65 x\n",
      "66 x\n",
      "67 x\n",
      "68 x\n",
      "69 x\n",
      "70 29\n",
      "71 x\n",
      "72 937\n",
      "73 x\n",
      "74 x\n",
      "75 x\n",
      "76 x\n",
      "77 x\n",
      "78 x\n",
      "79 x\n",
      "80 x\n",
      "81 x\n",
      "82 x\n",
      "83 x\n",
      "84 x\n",
      "85 x\n",
      "86 x\n",
      "87 x\n",
      "88 x\n",
      "89 17\n"
     ]
    }
   ],
   "source": [
    "for index, bus_id in enumerate(bus_ids):\n",
    "    print(index, bus_id)"
   ]
  },
  {
   "cell_type": "code",
   "execution_count": 42,
   "metadata": {},
   "outputs": [
    {
     "data": {
      "text/plain": [
       "13"
      ]
     },
     "execution_count": 42,
     "metadata": {},
     "output_type": "execute_result"
    }
   ],
   "source": [
    "756261495958122"
   ]
  },
  {
   "cell_type": "code",
   "execution_count": null,
   "metadata": {},
   "outputs": [],
   "source": []
  }
 ],
 "metadata": {
  "kernelspec": {
   "display_name": "Python 3",
   "language": "python",
   "name": "python3"
  },
  "language_info": {
   "codemirror_mode": {
    "name": "ipython",
    "version": 3
   },
   "file_extension": ".py",
   "mimetype": "text/x-python",
   "name": "python",
   "nbconvert_exporter": "python",
   "pygments_lexer": "ipython3",
   "version": "3.7.4"
  }
 },
 "nbformat": 4,
 "nbformat_minor": 4
}
