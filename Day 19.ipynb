{
 "cells": [
  {
   "cell_type": "code",
   "execution_count": 1,
   "metadata": {},
   "outputs": [],
   "source": [
    "from pathlib import Path\n",
    "\n",
    "from itertools import product"
   ]
  },
  {
   "cell_type": "code",
   "execution_count": 2,
   "metadata": {},
   "outputs": [],
   "source": [
    "data_path = Path.home() / 'workstation' / 'dev' / 'Advent-of-Code-2020' / 'data' / 'day19_input.txt'"
   ]
  },
  {
   "cell_type": "code",
   "execution_count": 3,
   "metadata": {},
   "outputs": [
    {
     "data": {
      "text/plain": [
       "True"
      ]
     },
     "execution_count": 3,
     "metadata": {},
     "output_type": "execute_result"
    }
   ],
   "source": [
    "data_path.exists()"
   ]
  },
  {
   "cell_type": "code",
   "execution_count": 4,
   "metadata": {},
   "outputs": [],
   "source": [
    "with open(data_path, 'r') as reader:\n",
    "    expr_input = reader.read().strip()"
   ]
  },
  {
   "cell_type": "code",
   "execution_count": 5,
   "metadata": {},
   "outputs": [],
   "source": [
    "rule_expressions, recd_messages = expr_input.split('\\n\\n')"
   ]
  },
  {
   "cell_type": "code",
   "execution_count": 6,
   "metadata": {},
   "outputs": [],
   "source": [
    "recd_message_list = recd_messages.split('\\n')"
   ]
  },
  {
   "cell_type": "code",
   "execution_count": 7,
   "metadata": {},
   "outputs": [],
   "source": [
    "rules_list = rule_expressions.strip('\\n').split('\\n')"
   ]
  },
  {
   "cell_type": "code",
   "execution_count": 8,
   "metadata": {},
   "outputs": [],
   "source": [
    "def create_rules_dict(rules_list):\n",
    "    rules_dict = {}\n",
    "    for rule in rules_list:\n",
    "        dict_key_str, rule_str = rule.split(': ')\n",
    "        dict_key = int(dict_key_str)\n",
    "        rules_dict[dict_key] = rule_str.strip('\\\"')\n",
    "    return rules_dict\n",
    "\n",
    "def parse_rule_string(rule_string):\n",
    "    split_string = rule_string.split(' | ')\n",
    "    return [\n",
    "        (x if x.isalpha() else list(map(int, x.split(' ')))) \n",
    "        for x in split_string\n",
    "    ]\n",
    "\n",
    "def is_string(entry):\n",
    "    return isinstance(entry, str)\n",
    "\n",
    "def get_rule(rules_dict, index):\n",
    "    return rules_dict.get(index)"
   ]
  },
  {
   "cell_type": "markdown",
   "metadata": {},
   "source": [
    "#### Part 1"
   ]
  },
  {
   "cell_type": "code",
   "execution_count": 9,
   "metadata": {},
   "outputs": [],
   "source": [
    "rules_dict = create_rules_dict(rules_list)"
   ]
  },
  {
   "cell_type": "code",
   "execution_count": 10,
   "metadata": {},
   "outputs": [],
   "source": [
    "rule_string = get_rule(rules_dict, 0)"
   ]
  },
  {
   "cell_type": "code",
   "execution_count": 11,
   "metadata": {},
   "outputs": [],
   "source": [
    "def generate_strings(rule_string):\n",
    "    rule_list = parse_rule_string(rule_string)\n",
    "    if is_string(rule_list[0]):\n",
    "        yield rule_list[0]\n",
    "    else:\n",
    "        for rules in rule_list:\n",
    "            get_strings = map(lambda x: generate_strings(rules_dict.get(x)), rules)\n",
    "            \n",
    "            for string_combination in product(*get_strings):\n",
    "                yield ''.join(string_combination)"
   ]
  },
  {
   "cell_type": "code",
   "execution_count": 12,
   "metadata": {},
   "outputs": [],
   "source": [
    "boolean_list = (message in generate_strings(rule_string) for message in recd_message_list)"
   ]
  },
  {
   "cell_type": "code",
   "execution_count": 13,
   "metadata": {},
   "outputs": [],
   "source": [
    "valid_messages = list(generate_strings(rule_string))"
   ]
  },
  {
   "cell_type": "code",
   "execution_count": 14,
   "metadata": {},
   "outputs": [
    {
     "name": "stdout",
     "output_type": "stream",
     "text": [
      "CPU times: user 9.68 s, sys: 19 ms, total: 9.7 s\n",
      "Wall time: 9.71 s\n"
     ]
    },
    {
     "data": {
      "text/plain": [
       "210"
      ]
     },
     "execution_count": 14,
     "metadata": {},
     "output_type": "execute_result"
    }
   ],
   "source": [
    "%%time\n",
    "sum((message in valid_messages for message in recd_message_list))"
   ]
  },
  {
   "cell_type": "markdown",
   "metadata": {},
   "source": [
    "#### Part 2\n",
    "\n",
    "Main observation: Valid string will be of the form [42]\\*M([42][31])\\*N, where [42] refers to any valid string created from rule 42, and [31] refers to any valid string from rule 31"
   ]
  },
  {
   "cell_type": "code",
   "execution_count": 15,
   "metadata": {},
   "outputs": [],
   "source": [
    "# Re-write rules to allow for recursion\n",
    "\n",
    "rules_dict[8] = '42 | 42 8'\n",
    "rules_dict[11] = '42 31 | 42 11 31'"
   ]
  },
  {
   "cell_type": "code",
   "execution_count": 16,
   "metadata": {},
   "outputs": [],
   "source": [
    "max_recd_message_len = max(map(len, recd_message_list))"
   ]
  },
  {
   "cell_type": "code",
   "execution_count": 17,
   "metadata": {},
   "outputs": [
    {
     "data": {
      "text/plain": [
       "96"
      ]
     },
     "execution_count": 17,
     "metadata": {},
     "output_type": "execute_result"
    }
   ],
   "source": [
    "max_recd_message_len"
   ]
  },
  {
   "cell_type": "code",
   "execution_count": 18,
   "metadata": {},
   "outputs": [
    {
     "data": {
      "text/plain": [
       "482"
      ]
     },
     "execution_count": 18,
     "metadata": {},
     "output_type": "execute_result"
    }
   ],
   "source": [
    "len(recd_message_list)"
   ]
  },
  {
   "cell_type": "code",
   "execution_count": 19,
   "metadata": {},
   "outputs": [],
   "source": [
    "get_strings_42 = list(generate_strings(rules_dict.get(42)))\n",
    "get_strings_31 = list(generate_strings(rules_dict.get(31)))"
   ]
  },
  {
   "cell_type": "code",
   "execution_count": 20,
   "metadata": {},
   "outputs": [
    {
     "data": {
      "text/plain": [
       "8"
      ]
     },
     "execution_count": 20,
     "metadata": {},
     "output_type": "execute_result"
    }
   ],
   "source": [
    "next(map(len, get_strings_42))"
   ]
  },
  {
   "cell_type": "code",
   "execution_count": 21,
   "metadata": {},
   "outputs": [
    {
     "data": {
      "text/plain": [
       "8"
      ]
     },
     "execution_count": 21,
     "metadata": {},
     "output_type": "execute_result"
    }
   ],
   "source": [
    "next(map(len, get_strings_31))"
   ]
  },
  {
   "cell_type": "code",
   "execution_count": 22,
   "metadata": {},
   "outputs": [],
   "source": [
    "def check_messages_for_validity(msg_list, msg_length):\n",
    "    valid_messages = []\n",
    "    \n",
    "    for message in msg_list:\n",
    "        l = len(message)\n",
    "        i_max = l//msg_length\n",
    "        valid_flag = 0\n",
    "        break_point = i_max-1\n",
    "        \n",
    "        try:\n",
    "            break_point = next(\n",
    "                msg_length*i\n",
    "                for i in range(0, i_max)\n",
    "                if message[msg_length*i : msg_length*(i+1)] not in get_strings_42\n",
    "            )\n",
    "        except StopIteration:\n",
    "            pass\n",
    "            \n",
    "        # Strings from rule 31 must be *strictly* shorter than/occur less often than 42\n",
    "        if l//2 >= break_point:\n",
    "            valid_flag = 1\n",
    "        \n",
    "        try:\n",
    "            valid_flag = next(\n",
    "                1\n",
    "                for i in range(break_point//msg_length, i_max)\n",
    "                if message[msg_length*i : msg_length*(i+1)] not in get_strings_31\n",
    "            )\n",
    "        except StopIteration:\n",
    "            pass\n",
    "            \n",
    "        if valid_flag == 0:\n",
    "            valid_messages.append(message)\n",
    "            \n",
    "    return valid_messages"
   ]
  },
  {
   "cell_type": "code",
   "execution_count": 23,
   "metadata": {},
   "outputs": [],
   "source": [
    "valid_messages = check_messages_for_validity(recd_message_list, 8)"
   ]
  },
  {
   "cell_type": "code",
   "execution_count": 24,
   "metadata": {},
   "outputs": [
    {
     "data": {
      "text/plain": [
       "422"
      ]
     },
     "execution_count": 24,
     "metadata": {},
     "output_type": "execute_result"
    }
   ],
   "source": [
    "len(valid_messages)"
   ]
  }
 ],
 "metadata": {
  "kernelspec": {
   "display_name": "Python 3",
   "language": "python",
   "name": "python3"
  },
  "language_info": {
   "codemirror_mode": {
    "name": "ipython",
    "version": 3
   },
   "file_extension": ".py",
   "mimetype": "text/x-python",
   "name": "python",
   "nbconvert_exporter": "python",
   "pygments_lexer": "ipython3",
   "version": "3.7.4"
  }
 },
 "nbformat": 4,
 "nbformat_minor": 4
}
