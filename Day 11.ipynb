{
 "cells": [
  {
   "cell_type": "code",
   "execution_count": 1,
   "metadata": {},
   "outputs": [],
   "source": [
    "from pathlib import Path\n",
    "\n",
    "from collections import Counter\n",
    "\n",
    "import copy"
   ]
  },
  {
   "cell_type": "code",
   "execution_count": 2,
   "metadata": {},
   "outputs": [],
   "source": [
    "data_path = Path.home() / 'workstation' / 'dev' / 'Advent-of-Code-2020' / 'data' / 'day11_input.txt'"
   ]
  },
  {
   "cell_type": "code",
   "execution_count": 3,
   "metadata": {},
   "outputs": [
    {
     "data": {
      "text/plain": [
       "True"
      ]
     },
     "execution_count": 3,
     "metadata": {},
     "output_type": "execute_result"
    }
   ],
   "source": [
    "data_path.exists()"
   ]
  },
  {
   "cell_type": "code",
   "execution_count": 4,
   "metadata": {},
   "outputs": [],
   "source": [
    "with open(data_path, 'r') as reader:\n",
    "    seat_input = reader.read().strip()"
   ]
  },
  {
   "cell_type": "code",
   "execution_count": 5,
   "metadata": {},
   "outputs": [],
   "source": [
    "col_length = len(seat_input.split('\\n')[0])"
   ]
  },
  {
   "cell_type": "code",
   "execution_count": 6,
   "metadata": {},
   "outputs": [],
   "source": [
    "row_length = len(seat_input.split('\\n'))"
   ]
  },
  {
   "cell_type": "code",
   "execution_count": 7,
   "metadata": {},
   "outputs": [],
   "source": [
    "all_seats = set()\n",
    "occupied_seats = set()"
   ]
  },
  {
   "cell_type": "code",
   "execution_count": 8,
   "metadata": {},
   "outputs": [],
   "source": [
    "for row_index, row in enumerate(seat_input.split('\\n')):\n",
    "    for col_index, char in enumerate(row):\n",
    "        if char == 'L':\n",
    "            all_seats.add((row_index, col_index))"
   ]
  },
  {
   "cell_type": "code",
   "execution_count": 9,
   "metadata": {},
   "outputs": [],
   "source": [
    "# After initial seat assignment\n",
    "\n",
    "occupied_seats = copy.deepcopy(all_seats)"
   ]
  },
  {
   "cell_type": "code",
   "execution_count": 10,
   "metadata": {},
   "outputs": [],
   "source": [
    "def neighbour_counts(current_occupied_seats, all_seats):\n",
    "    \"A {cell: int} counter of the number of occupied seat neighbours for all seats\"\n",
    "    neighbour_list = []\n",
    "    \n",
    "    for seat in current_occupied_seats:\n",
    "        for nb in neighbours(seat, current_occupied_seats):\n",
    "            neighbour_list.append(nb)           \n",
    "    return Counter(neighbour_list)\n",
    "\n",
    "\n",
    "def next_generation(current_occupied_seats, all_seats, occupancy_threshold):\n",
    "    \"The set of occupied seats in the next generation\"\n",
    "    counts = neighbour_counts(current_occupied_seats, all_seats)\n",
    "    next_gen = set()\n",
    "    \n",
    "    for seat in current_occupied_seats:\n",
    "        if counts[seat] < occupancy_threshold:\n",
    "            next_gen.add(seat)\n",
    "            \n",
    "    unoccupied_seats = all_seats - current_occupied_seats\n",
    "    for seat in unoccupied_seats:\n",
    "        if counts[seat] == 0:\n",
    "            next_gen.add(seat)\n",
    "    \n",
    "    return next_gen\n",
    "\n",
    "def run_simulation_until_convergence(current_config, all_seats, num_time_steps, occupancy_threshold):\n",
    "    \"Run the seating changes for n time steps\"\n",
    "    for g in range(num_time_steps):\n",
    "        new_config = next_generation(current_config, all_seats, occupancy_threshold)\n",
    "        if new_config == current_config:\n",
    "            print(f\"Convergence at time step: {g+2}\")\n",
    "            return new_config\n",
    "        current_config = new_config"
   ]
  },
  {
   "cell_type": "markdown",
   "metadata": {},
   "source": [
    "#### Part 1"
   ]
  },
  {
   "cell_type": "code",
   "execution_count": 11,
   "metadata": {},
   "outputs": [],
   "source": [
    "def neighbours(seat, current_occupied_seats):\n",
    "    \"All 8 adjacent neighbouring seats of seat\"\n",
    "    (x, y) = seat\n",
    "    potential_nbrs =  [(x-1, y-1), (x, y-1), (x+1, y-1), \n",
    "                       (x-1, y),             (x+1, y), \n",
    "                       (x-1, y+1), (x, y+1), (x+1, y+1)]\n",
    "    \n",
    "    return [nbr for nbr in potential_nbrs if nbr in all_seats]"
   ]
  },
  {
   "cell_type": "code",
   "execution_count": 12,
   "metadata": {},
   "outputs": [
    {
     "name": "stdout",
     "output_type": "stream",
     "text": [
      "Convergence at time step: 82\n"
     ]
    }
   ],
   "source": [
    "final_seat_configuration = run_simulation_until_convergence(occupied_seats, all_seats, 100, occupancy_threshold=4)"
   ]
  },
  {
   "cell_type": "code",
   "execution_count": 13,
   "metadata": {},
   "outputs": [
    {
     "data": {
      "text/plain": [
       "2386"
      ]
     },
     "execution_count": 13,
     "metadata": {},
     "output_type": "execute_result"
    }
   ],
   "source": [
    "len(final_seat_configuration)"
   ]
  },
  {
   "cell_type": "markdown",
   "metadata": {},
   "source": [
    "#### Part 2"
   ]
  },
  {
   "cell_type": "code",
   "execution_count": 14,
   "metadata": {},
   "outputs": [],
   "source": [
    "def neighbours(seat, current_occupied_seats):\n",
    "    \"The nearest seat in all 8 directions\"\n",
    "    (x, y) = seat\n",
    "    dx_dy =  [(-1, -1), (0, -1), (1, -1),\n",
    "              (-1, 0),           (1, 0),\n",
    "              (-1, 1),  (0, 1),  (1, 1)]\n",
    "    nearest_seat_nbr = []\n",
    "    \n",
    "    for dx, dy in dx_dy:\n",
    "        for i in range(1, max(row_length, col_length)):\n",
    "            nbr_x = x + i*dx\n",
    "            nbr_y = y + i*dy\n",
    "            if (nbr_x, nbr_y) in all_seats:\n",
    "                nearest_seat_nbr.append((nbr_x, nbr_y))\n",
    "                break\n",
    "    \n",
    "    return nearest_seat_nbr"
   ]
  },
  {
   "cell_type": "code",
   "execution_count": 15,
   "metadata": {},
   "outputs": [
    {
     "name": "stdout",
     "output_type": "stream",
     "text": [
      "Convergence at time step: 88\n"
     ]
    }
   ],
   "source": [
    "final_seat_configuration = run_simulation_until_convergence(occupied_seats, all_seats, 1000, occupancy_threshold=5)"
   ]
  },
  {
   "cell_type": "code",
   "execution_count": 16,
   "metadata": {},
   "outputs": [
    {
     "data": {
      "text/plain": [
       "2091"
      ]
     },
     "execution_count": 16,
     "metadata": {},
     "output_type": "execute_result"
    }
   ],
   "source": [
    "len(final_seat_configuration)"
   ]
  }
 ],
 "metadata": {
  "kernelspec": {
   "display_name": "Python 3",
   "language": "python",
   "name": "python3"
  },
  "language_info": {
   "codemirror_mode": {
    "name": "ipython",
    "version": 3
   },
   "file_extension": ".py",
   "mimetype": "text/x-python",
   "name": "python",
   "nbconvert_exporter": "python",
   "pygments_lexer": "ipython3",
   "version": "3.7.4"
  }
 },
 "nbformat": 4,
 "nbformat_minor": 4
}
