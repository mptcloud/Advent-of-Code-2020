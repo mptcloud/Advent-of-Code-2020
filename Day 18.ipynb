{
 "cells": [
  {
   "cell_type": "code",
   "execution_count": 1,
   "metadata": {},
   "outputs": [],
   "source": [
    "from pathlib import Path\n",
    "\n",
    "import ast\n",
    "\n",
    "import re\n",
    "\n",
    "import operator\n",
    "\n",
    "from functools import reduce"
   ]
  },
  {
   "cell_type": "code",
   "execution_count": 2,
   "metadata": {},
   "outputs": [],
   "source": [
    "data_path = Path.home() / 'workstation' / 'dev' / 'Advent-of-Code-2020' / 'data' / 'day18_input.txt'"
   ]
  },
  {
   "cell_type": "code",
   "execution_count": 3,
   "metadata": {},
   "outputs": [
    {
     "data": {
      "text/plain": [
       "True"
      ]
     },
     "execution_count": 3,
     "metadata": {},
     "output_type": "execute_result"
    }
   ],
   "source": [
    "data_path.exists()"
   ]
  },
  {
   "cell_type": "code",
   "execution_count": 4,
   "metadata": {},
   "outputs": [],
   "source": [
    "with open(data_path, 'r') as reader:\n",
    "    expr_input = reader.read().strip()"
   ]
  },
  {
   "cell_type": "code",
   "execution_count": 5,
   "metadata": {},
   "outputs": [],
   "source": [
    "expressions = expr_input.split('\\n')"
   ]
  },
  {
   "cell_type": "markdown",
   "metadata": {},
   "source": [
    "#### Part 1"
   ]
  },
  {
   "cell_type": "code",
   "execution_count": 6,
   "metadata": {},
   "outputs": [],
   "source": [
    "def evaluate(expression):\n",
    "    IGNORE_CHAR = [' ']\n",
    "    intermediate_numbers = []\n",
    "    intermediate_operators = []\n",
    "    OPERATORS = {\n",
    "        '+': lambda y, x: x + y,\n",
    "        '*': lambda y, x: x * y\n",
    "    }\n",
    "    \n",
    "    index = 0\n",
    "    while index in range(len(expression)):\n",
    "        token = expression[index]\n",
    "\n",
    "        if token in OPERATORS:\n",
    "            intermediate_operators.append(token)\n",
    "            index += 1\n",
    "            \n",
    "        elif token == '(':\n",
    "            start_index = index+1\n",
    "            substring = expression[start_index: ]\n",
    "            end_index, intermediate_result = evaluate(substring)\n",
    "            intermediate_numbers.append(intermediate_result)\n",
    "            index += end_index+2\n",
    "            \n",
    "        elif token == ')':\n",
    "            return index, intermediate_numbers[-1]\n",
    "            \n",
    "        elif token not in IGNORE_CHAR:\n",
    "            intermediate_numbers.append(int(token))\n",
    "            index += 1\n",
    "            \n",
    "        else:\n",
    "            index += 1\n",
    "            \n",
    "        if len(intermediate_numbers) == 2:\n",
    "            operator = intermediate_operators.pop()\n",
    "            intermediate_numbers.append(OPERATORS[operator](\n",
    "                intermediate_numbers.pop(), intermediate_numbers.pop()\n",
    "            ))\n",
    "    \n",
    "    return intermediate_numbers[-1]"
   ]
  },
  {
   "cell_type": "code",
   "execution_count": 7,
   "metadata": {},
   "outputs": [
    {
     "data": {
      "text/plain": [
       "14006719520523"
      ]
     },
     "execution_count": 7,
     "metadata": {},
     "output_type": "execute_result"
    }
   ],
   "source": [
    "sum(evaluate(expr) for expr in expressions)"
   ]
  },
  {
   "cell_type": "markdown",
   "metadata": {},
   "source": [
    "##### Alternative approach via AST (From Peter Norvig)"
   ]
  },
  {
   "cell_type": "code",
   "execution_count": 8,
   "metadata": {},
   "outputs": [],
   "source": [
    "example = \"\"\"((2 + 4 * 9) * (6 + 9 * 8 + 6) + 6) + 2 + 4 * 2\"\"\""
   ]
  },
  {
   "cell_type": "code",
   "execution_count": 9,
   "metadata": {},
   "outputs": [
    {
     "data": {
      "text/plain": [
       "\"((2 ,'+', 4 ,'*', 9) ,'*', (6 ,'+', 9 ,'*', 8 ,'+', 6) ,'+', 6) ,'+', 2 ,'+', 4 ,'*', 2\""
      ]
     },
     "execution_count": 9,
     "metadata": {},
     "output_type": "execute_result"
    }
   ],
   "source": [
    "# Tokenization of a sort, by inserting commas between operators\n",
    "\n",
    "re.sub('([+*])', r\",'\\1',\", example)"
   ]
  },
  {
   "cell_type": "code",
   "execution_count": 10,
   "metadata": {},
   "outputs": [],
   "source": [
    "def parse_expr(line) -> tuple: \n",
    "    \"Parse an expression: '2 + 3 * 4' => (2, '+', 3, '*', 4).\"\n",
    "    return ast.literal_eval(re.sub('([+*])', r\",'\\1',\", line))\n",
    "\n",
    "operators = {'+': operator.add, '*': operator.mul}\n",
    "\n",
    "def evaluate(expr) -> int:\n",
    "    \"Evaluate an expression under left-to-right rules.\"\n",
    "    if isinstance(expr, int):\n",
    "        return expr\n",
    "    else:\n",
    "        a, op, b, *rest = expr\n",
    "        x = operators[op](evaluate(a), evaluate(b))\n",
    "        return x if not rest else evaluate((x, *rest))"
   ]
  },
  {
   "cell_type": "code",
   "execution_count": 11,
   "metadata": {},
   "outputs": [
    {
     "data": {
      "text/plain": [
       "(((2, '+', 4, '*', 9), '*', (6, '+', 9, '*', 8, '+', 6), '+', 6),\n",
       " '+',\n",
       " 2,\n",
       " '+',\n",
       " 4,\n",
       " '*',\n",
       " 2)"
      ]
     },
     "execution_count": 11,
     "metadata": {},
     "output_type": "execute_result"
    }
   ],
   "source": [
    "parse_expr(example)"
   ]
  },
  {
   "cell_type": "code",
   "execution_count": 12,
   "metadata": {},
   "outputs": [
    {
     "data": {
      "text/plain": [
       "13632"
      ]
     },
     "execution_count": 12,
     "metadata": {},
     "output_type": "execute_result"
    }
   ],
   "source": [
    "evaluate(parse_expr(example))"
   ]
  },
  {
   "cell_type": "markdown",
   "metadata": {},
   "source": [
    "#### Part 2 (using Norvig's solution above as I don't think my approach will generalize without a lot of effort)\n",
    "\n",
    "Basic idea: Use an AST. My approach not likely to work owing to the fact that I didn't tokenize the string. The AST evaluation renders each parenthetical expression as a separate element of a list."
   ]
  },
  {
   "cell_type": "code",
   "execution_count": 13,
   "metadata": {},
   "outputs": [],
   "source": [
    "def evaluate_2(expr):\n",
    "    if isinstance(expr, int):\n",
    "        return expr\n",
    "    else:\n",
    "        while '+' in expr:\n",
    "            expr = list(expr)\n",
    "            index = expr.index('+')\n",
    "            a = expr[index-1]\n",
    "            b = expr[index+1]\n",
    "            expr[index-1: index+2] = [evaluate_2(a) + evaluate_2(b)]\n",
    "        # Need to put evaluate_2 here as multiplication isn't covered in the while loop\n",
    "        return reduce(lambda x, y: x*y, [evaluate_2(x) for x in expr if x != '*'])"
   ]
  },
  {
   "cell_type": "code",
   "execution_count": 14,
   "metadata": {},
   "outputs": [
    {
     "data": {
      "text/plain": [
       "545115449981968"
      ]
     },
     "execution_count": 14,
     "metadata": {},
     "output_type": "execute_result"
    }
   ],
   "source": [
    "sum(evaluate_2(parse_expr(expr)) for expr in expressions)"
   ]
  }
 ],
 "metadata": {
  "kernelspec": {
   "display_name": "Python 3",
   "language": "python",
   "name": "python3"
  },
  "language_info": {
   "codemirror_mode": {
    "name": "ipython",
    "version": 3
   },
   "file_extension": ".py",
   "mimetype": "text/x-python",
   "name": "python",
   "nbconvert_exporter": "python",
   "pygments_lexer": "ipython3",
   "version": "3.7.4"
  }
 },
 "nbformat": 4,
 "nbformat_minor": 4
}
