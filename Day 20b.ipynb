{
 "cells": [
  {
   "cell_type": "code",
   "execution_count": 1,
   "metadata": {},
   "outputs": [],
   "source": [
    "from pathlib import Path\n",
    "\n",
    "from collections import defaultdict\n",
    "\n",
    "import numpy as np\n",
    "\n",
    "from itertools import combinations\n",
    "\n",
    "from dataclasses import dataclass\n",
    "\n",
    "import math\n",
    "\n",
    "import pickle\n",
    "\n",
    "from csp import Constraint, CSP"
   ]
  },
  {
   "cell_type": "code",
   "execution_count": 2,
   "metadata": {},
   "outputs": [],
   "source": [
    "data_path = Path.home() / 'workstation' / 'dev' / 'Advent-of-Code-2020' / 'data' / 'day20_input.txt'"
   ]
  },
  {
   "cell_type": "code",
   "execution_count": 3,
   "metadata": {},
   "outputs": [
    {
     "data": {
      "text/plain": [
       "True"
      ]
     },
     "execution_count": 3,
     "metadata": {},
     "output_type": "execute_result"
    }
   ],
   "source": [
    "data_path.exists()"
   ]
  },
  {
   "cell_type": "code",
   "execution_count": 4,
   "metadata": {},
   "outputs": [],
   "source": [
    "with open(data_path, 'r') as reader:\n",
    "    image_input = reader.read().strip()"
   ]
  },
  {
   "cell_type": "code",
   "execution_count": 5,
   "metadata": {},
   "outputs": [],
   "source": [
    "imgs_w_title = image_input.split('\\n\\n')"
   ]
  },
  {
   "cell_type": "code",
   "execution_count": 6,
   "metadata": {},
   "outputs": [],
   "source": [
    "def get_pixels(text): \n",
    "    \"Translate the '.' and '#' to 0's and 1's\"\n",
    "    bits = {'#': 1, '.': 0}\n",
    "    return tuple(bits[p] for p in text)\n",
    "\n",
    "def rotate_ctrclockwise(array, **kwargs):\n",
    "    return np.rot90(array, **kwargs)\n",
    "\n",
    "def flip_horizontal(array):\n",
    "    return np.fliplr(array)\n",
    "\n",
    "def flip_vertical(array):\n",
    "    return np.flipud(array)\n",
    "\n",
    "def get_tile_borders(tile_array):\n",
    "    return [\n",
    "        tile_array[:, 0],\n",
    "        tile_array[:, -1],\n",
    "        tile_array[0, :],\n",
    "        tile_array[-1, :]\n",
    "    ]"
   ]
  },
  {
   "cell_type": "code",
   "execution_count": 7,
   "metadata": {},
   "outputs": [],
   "source": [
    "image_dict = {}\n",
    "\n",
    "for image in imgs_w_title:\n",
    "    title, *image = image.split('\\n')\n",
    "    title = title[:-1] # Getting rid of colon\n",
    "    tile_id = [int(s) for s in title.split() if s.isdigit()]\n",
    "    image_dict[tile_id[0]] = np.asarray(list(get_pixels(row) for row in image))"
   ]
  },
  {
   "cell_type": "code",
   "execution_count": 8,
   "metadata": {},
   "outputs": [],
   "source": [
    "# All possible tile borders. 8 possibilities: original borders + flips\n",
    "\n",
    "tile_borders = defaultdict(list)\n",
    "\n",
    "for tile_id, tile in image_dict.items():\n",
    "    tile_borders[tile_id] = (\n",
    "        get_tile_borders(tile) +\n",
    "        list(map(flip_vertical, get_tile_borders(tile)))\n",
    "    )"
   ]
  },
  {
   "cell_type": "code",
   "execution_count": 9,
   "metadata": {},
   "outputs": [],
   "source": [
    "common_borders = defaultdict(list)\n",
    "\n",
    "for id_1, id_2 in combinations(tile_borders.keys(), 2):\n",
    "    cmn_borders = []\n",
    "    for bdr in tile_borders[id_1]:\n",
    "        if any(np.array_equal(bdr, x) for x in tile_borders[id_2]):\n",
    "            cmn_borders.append(bdr)\n",
    "    common_borders[(id_1, id_2)] = cmn_borders\n",
    "    common_borders[(id_2, id_1)] = cmn_borders"
   ]
  },
  {
   "cell_type": "markdown",
   "metadata": {},
   "source": [
    "#### Part 2"
   ]
  },
  {
   "cell_type": "markdown",
   "metadata": {},
   "source": [
    "#### Getting the right tiles for each cell via CSP"
   ]
  },
  {
   "cell_type": "code",
   "execution_count": 10,
   "metadata": {},
   "outputs": [],
   "source": [
    "class TilingConstraint(Constraint):\n",
    "    \n",
    "    def __init__(self, cell1, cell2):\n",
    "        super().__init__([cell1, cell2])\n",
    "        self.cell1 = cell1\n",
    "        self.cell2 = cell2\n",
    "    \n",
    "    def is_satisfied(self, assignment):\n",
    "        def is_nbr(dx, dy):\n",
    "            if dx == 1 and dy == 0:\n",
    "                return True\n",
    "            elif dx == 0 and dy == 1:\n",
    "                return True\n",
    "            else: return False\n",
    "            \n",
    "        if self.cell1 not in assignment or self.cell2 not in assignment:\n",
    "            return True\n",
    "        \n",
    "        x1, y1 = self.cell1.row, self.cell1.col\n",
    "        x2, y2 = self.cell2.row, self.cell2.col\n",
    "        \n",
    "        dx = abs(x1 - x2)\n",
    "        dy = abs(y1 - y2)\n",
    "        \n",
    "        if is_nbr(dx, dy):\n",
    "            if TilingConstraint.border_pairs[(assignment[self.cell1], assignment[self.cell2])]:\n",
    "                return True\n",
    "            else: return False\n",
    "        else:\n",
    "            if not TilingConstraint.border_pairs[(assignment[self.cell1], assignment[self.cell2])]:\n",
    "                return True\n",
    "            else: return False"
   ]
  },
  {
   "cell_type": "code",
   "execution_count": 11,
   "metadata": {},
   "outputs": [],
   "source": [
    "setattr(TilingConstraint, 'border_pairs', common_borders)"
   ]
  },
  {
   "cell_type": "code",
   "execution_count": 12,
   "metadata": {},
   "outputs": [],
   "source": [
    "@dataclass(eq=True, frozen=True)\n",
    "class GridLocation:\n",
    "    '''Object for tracking cell location'''\n",
    "    row: int \n",
    "    col: int"
   ]
  },
  {
   "cell_type": "code",
   "execution_count": 13,
   "metadata": {},
   "outputs": [],
   "source": [
    "def generate_grid(num_rows, num_columns):\n",
    "    return [GridLocation(i, j) for i in range(num_rows) for j in range(num_columns)]"
   ]
  },
  {
   "cell_type": "code",
   "execution_count": 14,
   "metadata": {},
   "outputs": [],
   "source": [
    "len_sides = int(math.sqrt(len(imgs_w_title)))"
   ]
  },
  {
   "cell_type": "code",
   "execution_count": 15,
   "metadata": {},
   "outputs": [],
   "source": [
    "variables = generate_grid(len_sides, len_sides)"
   ]
  },
  {
   "cell_type": "code",
   "execution_count": 16,
   "metadata": {},
   "outputs": [],
   "source": [
    "domains = {}\n",
    "\n",
    "for variable in variables:\n",
    "    domains[variable] = list(image_dict.keys())\n",
    "\n",
    "csp = CSP(variables, domains)"
   ]
  },
  {
   "cell_type": "code",
   "execution_count": 17,
   "metadata": {},
   "outputs": [],
   "source": [
    "for cell_1, cell_2 in combinations(variables, 2):\n",
    "    csp.add_constraint(TilingConstraint(cell_1, cell_2))"
   ]
  },
  {
   "cell_type": "code",
   "execution_count": 20,
   "metadata": {},
   "outputs": [],
   "source": [
    "solution = csp.backtracking_search_unique_assignment()"
   ]
  },
  {
   "cell_type": "markdown",
   "metadata": {},
   "source": [
    "Creating an intermediate save file as the previous operation is a bit time-consuming\n",
    "\n",
    "Search process not really optimized."
   ]
  },
  {
   "cell_type": "code",
   "execution_count": 21,
   "metadata": {},
   "outputs": [],
   "source": [
    "# Saving results in a file\n",
    "\n",
    "with open('Grid_TileIds.txt', 'wb') as handle:\n",
    "    pickle.dump(solution, handle)"
   ]
  },
  {
   "cell_type": "code",
   "execution_count": 18,
   "metadata": {},
   "outputs": [],
   "source": [
    "# Loading results from a file\n",
    "\n",
    "with open('Grid_TileIds.txt', 'rb') as handle:\n",
    "    tile_dict = pickle.loads(handle.read())"
   ]
  },
  {
   "cell_type": "markdown",
   "metadata": {},
   "source": [
    "#### Getting the right orientation for each tile via CSP"
   ]
  },
  {
   "cell_type": "code",
   "execution_count": 19,
   "metadata": {},
   "outputs": [],
   "source": [
    "def get_all_possible_orientations(image_arr):\n",
    "    subimage_list = []\n",
    "    for rot in range(4):\n",
    "        sub_image = rotate_ctrclockwise(\n",
    "            image_arr,\n",
    "            k=rot\n",
    "        )\n",
    "        subimage_list.append(sub_image)\n",
    "        subimage_list.append(flip_horizontal(sub_image))\n",
    "        subimage_list.append(flip_vertical(sub_image))\n",
    "    return subimage_list"
   ]
  },
  {
   "cell_type": "code",
   "execution_count": 20,
   "metadata": {},
   "outputs": [],
   "source": [
    "domains = defaultdict(list)\n",
    "\n",
    "for variable in variables:\n",
    "    image = image_dict[tile_dict[variable]]\n",
    "    domains[variable] = get_all_possible_orientations(image)"
   ]
  },
  {
   "cell_type": "code",
   "execution_count": 21,
   "metadata": {},
   "outputs": [],
   "source": [
    "class OrientationConstraint(Constraint):\n",
    "    def __init__(self, cell1, cell2,):\n",
    "        super().__init__([cell1, cell2])\n",
    "        self.cell1 = cell1\n",
    "        self.cell2 = cell2\n",
    "        \n",
    "        \n",
    "    def is_satisfied(self, assignment):            \n",
    "        if self.cell1 not in assignment or self.cell2 not in assignment:\n",
    "            return True\n",
    "        \n",
    "        y1, x1 = self.cell1.row, self.cell1.col\n",
    "        y2, x2 = self.cell2.row, self.cell2.col\n",
    "        \n",
    "        img1 = assignment[self.cell1]\n",
    "        img2 = assignment[self.cell2]\n",
    "        \n",
    "        if x2 == x1+1 and y2 == y1:\n",
    "            if np.array_equal(img1[:, -1], img2[:, 0]):\n",
    "                return True\n",
    "            else:\n",
    "                return False\n",
    "        elif x2 == x1-1 and y2 == y1:\n",
    "            if np.array_equal(img1[:, 0], img2[:, -1]):\n",
    "                return True\n",
    "            else:\n",
    "                return False\n",
    "        elif y2 == y1+1 and x2 == x1:\n",
    "            if np.array_equal(img1[-1, :], img2[0, :]):\n",
    "                return True\n",
    "            else:\n",
    "                return False\n",
    "        elif y2 == y1-1 and x2 == x1:\n",
    "            if np.array_equal(img1[0, :], img2[-1, :]):\n",
    "                return True\n",
    "            else:\n",
    "                return False\n",
    "        else:\n",
    "            return True"
   ]
  },
  {
   "cell_type": "code",
   "execution_count": 22,
   "metadata": {},
   "outputs": [],
   "source": [
    "csp = CSP(variables, domains)"
   ]
  },
  {
   "cell_type": "code",
   "execution_count": 23,
   "metadata": {},
   "outputs": [],
   "source": [
    "for cell_1, cell_2 in combinations(variables, 2):\n",
    "    csp.add_constraint(OrientationConstraint(cell_1, cell_2))"
   ]
  },
  {
   "cell_type": "code",
   "execution_count": 24,
   "metadata": {},
   "outputs": [],
   "source": [
    "solution = csp.backtracking_search()"
   ]
  },
  {
   "cell_type": "code",
   "execution_count": 25,
   "metadata": {},
   "outputs": [],
   "source": [
    "def get_final_image(solution, len_sides):\n",
    "    final_image= []\n",
    "    for i in range(len_sides):\n",
    "        row = []\n",
    "        for j in range(len_sides):\n",
    "            image = solution[GridLocation(i, j)][1:-1, 1:-1]\n",
    "            row.append(image)\n",
    "        final_image.append(row)\n",
    "    return np.bmat(final_image)"
   ]
  },
  {
   "cell_type": "code",
   "execution_count": 26,
   "metadata": {},
   "outputs": [],
   "source": [
    "final_image = get_final_image(solution, len_sides)"
   ]
  },
  {
   "cell_type": "code",
   "execution_count": 28,
   "metadata": {},
   "outputs": [],
   "source": [
    "final_image_list = get_all_possible_orientations(final_image)"
   ]
  },
  {
   "cell_type": "code",
   "execution_count": 29,
   "metadata": {},
   "outputs": [],
   "source": [
    "def count_non_monster_ones(image):\n",
    "    def is_monster_present(arr):\n",
    "        conditions = (\n",
    "            arr[0, 18] == 1 and\n",
    "            arr[1, 0]  == 1 and\n",
    "            arr[1, 5]  == 1 and\n",
    "            arr[1, 6]  == 1 and\n",
    "            arr[1, 11] == 1 and\n",
    "            arr[1, 12] == 1 and\n",
    "            arr[1, 17] == 1 and\n",
    "            arr[1, 18] == 1 and\n",
    "            arr[1, 19] == 1 and\n",
    "            arr[2, 1]  == 1 and\n",
    "            arr[2, 4]  == 1 and\n",
    "            arr[2, 7]  == 1 and\n",
    "            arr[2, 10] == 1 and\n",
    "            arr[2, 13] == 1 and\n",
    "            arr[2, 16] == 1\n",
    "        )\n",
    "    \n",
    "        if conditions:\n",
    "            return True\n",
    "        else:\n",
    "            return False\n",
    "        \n",
    "        \n",
    "    def search_and_count_monsters():\n",
    "        count = 0\n",
    "        for i in range(0, len_sides-3):\n",
    "            for j in range(0, len_sides-20):\n",
    "                search_array = image[i: i+3, j: j+20]\n",
    "                if is_monster_present(search_array):\n",
    "                    count += 1\n",
    "        return count\n",
    "    \n",
    "    \n",
    "    len_sides = image.shape[0]\n",
    "    num_monsters = search_and_count_monsters()\n",
    "    num_non_monster_ones = image.sum() - num_monsters*15\n",
    "    return num_non_monster_ones "
   ]
  },
  {
   "cell_type": "code",
   "execution_count": 30,
   "metadata": {},
   "outputs": [
    {
     "name": "stdout",
     "output_type": "stream",
     "text": [
      "1964\n"
     ]
    }
   ],
   "source": [
    "for index, image in enumerate(final_image_list):\n",
    "    if count_non_monster_ones(image) < image.sum():\n",
    "        print(count_non_monster_ones(image))"
   ]
  }
 ],
 "metadata": {
  "kernelspec": {
   "display_name": "Python 3",
   "language": "python",
   "name": "python3"
  },
  "language_info": {
   "codemirror_mode": {
    "name": "ipython",
    "version": 3
   },
   "file_extension": ".py",
   "mimetype": "text/x-python",
   "name": "python",
   "nbconvert_exporter": "python",
   "pygments_lexer": "ipython3",
   "version": "3.7.4"
  }
 },
 "nbformat": 4,
 "nbformat_minor": 4
}
